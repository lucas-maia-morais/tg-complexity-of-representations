{
  "cells": [
    {
      "cell_type": "markdown",
      "metadata": {
        "id": "Kee71UgtfbtE"
      },
      "source": [
        "# Setup"
      ]
    },
    {
      "cell_type": "code",
      "execution_count": 1,
      "metadata": {
        "colab": {
          "base_uri": "https://localhost:8080/"
        },
        "id": "aDIB0buwcK4j",
        "outputId": "ada40cb5-350c-4bb1-c395-1d5e61a9d54b"
      },
      "outputs": [
        {
          "output_type": "stream",
          "name": "stdout",
          "text": [
            "Collecting pymfe\n",
            "  Downloading pymfe-0.4.2-py3-none-any.whl (155 kB)\n",
            "\u001b[2K     \u001b[90m━━━━━━━━━━━━━━━━━━━━━━━━━━━━━━━━━━━━━━━━\u001b[0m \u001b[32m155.7/155.7 kB\u001b[0m \u001b[31m3.3 MB/s\u001b[0m eta \u001b[36m0:00:00\u001b[0m\n",
            "\u001b[?25hRequirement already satisfied: numpy in /usr/local/lib/python3.10/dist-packages (from pymfe) (1.23.5)\n",
            "Requirement already satisfied: scipy in /usr/local/lib/python3.10/dist-packages (from pymfe) (1.11.3)\n",
            "Requirement already satisfied: scikit-learn in /usr/local/lib/python3.10/dist-packages (from pymfe) (1.2.2)\n",
            "Requirement already satisfied: patsy in /usr/local/lib/python3.10/dist-packages (from pymfe) (0.5.3)\n",
            "Requirement already satisfied: pandas in /usr/local/lib/python3.10/dist-packages (from pymfe) (1.5.3)\n",
            "Requirement already satisfied: statsmodels in /usr/local/lib/python3.10/dist-packages (from pymfe) (0.14.0)\n",
            "Collecting texttable (from pymfe)\n",
            "  Downloading texttable-1.7.0-py2.py3-none-any.whl (10 kB)\n",
            "Requirement already satisfied: tqdm in /usr/local/lib/python3.10/dist-packages (from pymfe) (4.66.1)\n",
            "Collecting igraph>=0.10.1 (from pymfe)\n",
            "  Downloading igraph-0.11.3-cp39-abi3-manylinux_2_17_x86_64.manylinux2014_x86_64.whl (3.3 MB)\n",
            "\u001b[2K     \u001b[90m━━━━━━━━━━━━━━━━━━━━━━━━━━━━━━━━━━━━━━━━\u001b[0m \u001b[32m3.3/3.3 MB\u001b[0m \u001b[31m46.4 MB/s\u001b[0m eta \u001b[36m0:00:00\u001b[0m\n",
            "\u001b[?25hCollecting gower (from pymfe)\n",
            "  Downloading gower-0.1.2-py3-none-any.whl (5.2 kB)\n",
            "Requirement already satisfied: python-dateutil>=2.8.1 in /usr/local/lib/python3.10/dist-packages (from pandas->pymfe) (2.8.2)\n",
            "Requirement already satisfied: pytz>=2020.1 in /usr/local/lib/python3.10/dist-packages (from pandas->pymfe) (2023.3.post1)\n",
            "Requirement already satisfied: six in /usr/local/lib/python3.10/dist-packages (from patsy->pymfe) (1.16.0)\n",
            "Requirement already satisfied: joblib>=1.1.1 in /usr/local/lib/python3.10/dist-packages (from scikit-learn->pymfe) (1.3.2)\n",
            "Requirement already satisfied: threadpoolctl>=2.0.0 in /usr/local/lib/python3.10/dist-packages (from scikit-learn->pymfe) (3.2.0)\n",
            "Requirement already satisfied: packaging>=21.3 in /usr/local/lib/python3.10/dist-packages (from statsmodels->pymfe) (23.2)\n",
            "Installing collected packages: texttable, igraph, gower, pymfe\n",
            "Successfully installed gower-0.1.2 igraph-0.11.3 pymfe-0.4.2 texttable-1.7.0\n"
          ]
        }
      ],
      "source": [
        "!pip install -U pymfe"
      ]
    },
    {
      "cell_type": "code",
      "execution_count": 9,
      "metadata": {
        "id": "c8mUTMNzhuvX"
      },
      "outputs": [],
      "source": [
        "import numpy as np\n",
        "import pandas as pd\n",
        "import time\n",
        "import torch\n",
        "import torch.nn as nn\n",
        "import torch.nn.functional as F\n",
        "import matplotlib.pyplot as plt\n",
        "\n",
        "from torch.utils.data import DataLoader\n",
        "from datetime import datetime\n",
        "from torchvision import datasets, transforms\n",
        "\n",
        "DEVICE = 'cuda' if torch.cuda.is_available() else 'cpu'\n",
        "%config InlineBackend.figure_format = 'retina'"
      ]
    },
    {
      "cell_type": "code",
      "execution_count": 10,
      "metadata": {
        "id": "7fgcJ1v6iBaN"
      },
      "outputs": [],
      "source": [
        "# parameters\n",
        "RANDOM_SEED = 42\n",
        "LEARNING_RATE = 0.001\n",
        "BATCH_SIZE = 32\n",
        "N_EPOCHS = 25\n",
        "BATCH_IMAGE_INDEX = 0\n",
        "SIZE_LOOP_TO_HOOK = 1\n",
        "\n",
        "\n",
        "IMG_SIZE = 32\n",
        "N_CLASSES = 10"
      ]
    },
    {
      "cell_type": "markdown",
      "metadata": {
        "id": "u5UEh3ZMh28r"
      },
      "source": [
        "# Funções auxiliares"
      ]
    },
    {
      "cell_type": "code",
      "execution_count": 12,
      "metadata": {
        "id": "OkiBqk_PoVx3"
      },
      "outputs": [],
      "source": [
        "def plot_losses(train_losses, valid_losses):\n",
        "    '''\n",
        "    Function for plotting training and validation losses\n",
        "    '''\n",
        "\n",
        "    # temporarily change the style of the plots to seaborn\n",
        "    plt.style.use('seaborn')\n",
        "\n",
        "    train_losses = np.array(train_losses)\n",
        "    valid_losses = np.array(valid_losses)\n",
        "\n",
        "    fig, ax = plt.subplots(figsize = (8, 4.5))\n",
        "\n",
        "    ax.plot(train_losses, color='blue', label='Training loss')\n",
        "    ax.plot(valid_losses, color='red', label='Validation loss')\n",
        "    ax.set(title=\"Loss over epochs\",\n",
        "            xlabel='Epoch',\n",
        "            ylabel='Loss')\n",
        "    ax.legend()\n",
        "    fig.show()\n",
        "\n",
        "    # change the plot style to default\n",
        "    plt.style.use('default')\n",
        "\n",
        "def train(train_loader, model, criterion, optimizer, device):\n",
        "    '''\n",
        "    Function for the training step of the training loop\n",
        "    '''\n",
        "\n",
        "    model.train()\n",
        "    running_loss = 0\n",
        "\n",
        "    for X, y_true in train_loader:\n",
        "\n",
        "        optimizer.zero_grad()\n",
        "\n",
        "        X = X.to(device)\n",
        "        y_true = y_true.to(device)\n",
        "\n",
        "        # Forward pass\n",
        "        y_hat, _ = model(X)\n",
        "        loss = criterion(y_hat, y_true)\n",
        "        running_loss += loss.item() * X.size(0)\n",
        "\n",
        "        # Backward pass\n",
        "        loss.backward()\n",
        "        optimizer.step()\n",
        "\n",
        "    epoch_loss = running_loss / len(train_loader.dataset)\n",
        "    return model, optimizer, epoch_loss\n",
        "\n",
        "def validate(valid_loader, model, criterion, device):\n",
        "    '''\n",
        "    Function for the validation step of the training loop\n",
        "    '''\n",
        "\n",
        "    model.eval()\n",
        "    running_loss = 0\n",
        "\n",
        "    for X, y_true in valid_loader:\n",
        "\n",
        "        X = X.to(device)\n",
        "        y_true = y_true.to(device)\n",
        "\n",
        "        # Forward pass and record loss\n",
        "        y_hat, _ = model(X)\n",
        "        loss = criterion(y_hat, y_true)\n",
        "        running_loss += loss.item() * X.size(0)\n",
        "\n",
        "    epoch_loss = running_loss / len(valid_loader.dataset)\n",
        "\n",
        "    return model, epoch_loss\n",
        "\n",
        "def get_accuracy_with_hooks(model, data_loader, intermediateRepresentationsMapTensor, ty, device,hook_layers=True):\n",
        "    '''\n",
        "    Function for computing the accuracy of the predictions over the entire data_loader\n",
        "    '''\n",
        "\n",
        "    correct_pred = 0\n",
        "    n = 0\n",
        "    # tys = []\n",
        "    with torch.no_grad():\n",
        "        model.eval()\n",
        "        for X, y_true in data_loader:\n",
        "\n",
        "            X = X.to(device)\n",
        "            y_true = y_true.to(device)\n",
        "            ty = torch.cat((ty,y_true[BATCH_IMAGE_INDEX].reshape(1)),0)\n",
        "            # tys.append(y_true[0])\n",
        "\n",
        "            _, y_prob = model(X)\n",
        "            _, predicted_labels = torch.max(y_prob, 1)\n",
        "            if hook_layers:\n",
        "              for _, (layerName, layer) in enumerate(model.named_children()):\n",
        "                # print(activation[layerName].size())\n",
        "                # print(activation[layerName][0].size())\n",
        "                if layerName in intermediateRepresentationsMapTensor:\n",
        "                  t = intermediateRepresentationsMapTensor[layerName]\n",
        "                  # t = torch.cat((t,activation[layerName]),0)\n",
        "                  t = torch.cat((t,torch.unsqueeze(activation[layerName][BATCH_IMAGE_INDEX],0)),0)\n",
        "                  # print(t.size())\n",
        "                  intermediateRepresentationsMapTensor[layerName] = t\n",
        "                else:\n",
        "                  intermediateRepresentationsMapTensor[layerName] = torch.unsqueeze(activation[layerName][BATCH_IMAGE_INDEX],0)\n",
        "\n",
        "            n += y_true.size(0)\n",
        "            correct_pred += (predicted_labels == y_true).sum()\n",
        "\n",
        "\n",
        "    return (correct_pred.float() / n, ty)\n",
        "\n",
        "def training_loop_with_hooks(model, criterion, optimizer, train_loader, valid_loader, epochs, device, hook_every=1,hook_layers=True):\n",
        "    '''\n",
        "    Function defining the entire training loop\n",
        "    '''\n",
        "\n",
        "    # set objects for storing metrics\n",
        "    best_loss = 1e10\n",
        "    train_losses = []\n",
        "    valid_losses = []\n",
        "    train_accuracy = pd.DataFrame(columns=['epoch','value'])\n",
        "    valid_accuracy = pd.DataFrame(columns=['epoch','value'])\n",
        "\n",
        "    testCompTable = pd.DataFrame(columns=['epoch','layer','metric','value'])\n",
        "    trainCompTable = pd.DataFrame(columns=['epoch','layer','metric','value'])\n",
        "\n",
        "\n",
        "    # Train model\n",
        "    for epoch in range(0, epochs):\n",
        "\n",
        "        # training\n",
        "        model, optimizer, train_loss = train(train_loader, model, criterion, optimizer, device)\n",
        "        train_losses.append(train_loss)\n",
        "\n",
        "        # validation\n",
        "        with torch.no_grad():\n",
        "            model, valid_loss = validate(valid_loader, model, criterion, device)\n",
        "            valid_losses.append(valid_loss)\n",
        "\n",
        "        if (epoch % hook_every == (hook_every - 1)):\n",
        "\n",
        "            if(hook_layers):\n",
        "              hooks = attach_hooks(model)\n",
        "            ty = torch.Tensor().to(DEVICE)\n",
        "            intermediateRepresentationsMapTensor = {}\n",
        "            train_acc, ty = get_accuracy_with_hooks(model, train_loader, intermediateRepresentationsMapTensor, ty, device=device,hook_layers=hook_layers)\n",
        "            # print(ty)\n",
        "            # print(intermediateRepresentationsMapTensor)\n",
        "            entry = {\"epoch\": epoch, \"value\": train_acc.to('cpu').numpy()}\n",
        "            entryDf = pd.DataFrame(entry, index=[0])\n",
        "            train_accuracy = pd.concat([train_accuracy,entryDf],ignore_index=True)\n",
        "            trainCompTable = complexity_calculator(trainCompTable,intermediateRepresentationsMapTensor,ty,epoch)\n",
        "\n",
        "\n",
        "            ty = torch.Tensor().to(DEVICE)\n",
        "            intermediateRepresentationsMapTensor = {}\n",
        "            valid_acc, ty = get_accuracy_with_hooks(model, valid_loader, intermediateRepresentationsMapTensor, ty, device=device,hook_layers=hook_layers)\n",
        "            entry = {\"epoch\": epoch, \"value\": valid_acc.to('cpu').numpy()}\n",
        "            entryDf = pd.DataFrame(entry, index=[0])\n",
        "            valid_accuracy = pd.concat([valid_accuracy,entryDf],ignore_index=True)\n",
        "            testCompTable = complexity_calculator(testCompTable,intermediateRepresentationsMapTensor,ty,epoch)\n",
        "\n",
        "            if(hook_layers):\n",
        "              remove_hooks(hooks)\n",
        "            print(f'{datetime.now().time().replace(microsecond=0)} --- '\n",
        "                  f'Epoch: {epoch}\\t'\n",
        "                  f'Train loss: {train_loss:.4f}\\t'\n",
        "                  f'Valid loss: {valid_loss:.4f}\\t'\n",
        "                  f'Train accuracy: {100 * train_acc:.2f}\\t'\n",
        "                  f'Valid accuracy: {100 * valid_acc:.2f}')\n",
        "\n",
        "    plot_losses(train_losses, valid_losses)\n",
        "\n",
        "    return model, optimizer, (train_losses, valid_losses), (trainCompTable,testCompTable), (train_accuracy, valid_accuracy)\n",
        "\n",
        "activation = {}\n",
        "def getActivation(name):\n",
        "    # the hook signature\n",
        "    def hook(model, input, output):\n",
        "        activation[name] = output.detach()\n",
        "    return hook\n",
        "\n",
        "def attach_hooks(model):\n",
        "  hooks = []\n",
        "  for idx, (layerName, layer) in enumerate(model.named_children()):\n",
        "    hooks.append(layer.register_forward_hook(getActivation(layerName)))\n",
        "  return hooks\n",
        "\n",
        "def remove_hooks(hooks):\n",
        "  for h in hooks:\n",
        "    h.remove()\n",
        "\n",
        "def complexity_calculator(DataMap,intermediateRepresentationsMapTensor,ty,epoch):\n",
        "  for layerName in intermediateRepresentationsMapTensor.keys():\n",
        "    intermediateRepresentationsTensor = intermediateRepresentationsMapTensor[layerName]\n",
        "    complexitiesMap = complexity_calculator_layer(intermediateRepresentationsTensor,ty)\n",
        "    for complexityMetric in complexitiesMap.keys():\n",
        "      entry = {\"epoch\": epoch, \"layer\": layerName, \"metric\": complexityMetric, \"value\": complexitiesMap[complexityMetric]}\n",
        "      entryDf = pd.DataFrame(entry, index=[0])\n",
        "      # DataMap.append(entry,ignore_index=True)\n",
        "      DataMap = pd.concat([DataMap,entryDf],ignore_index=True)\n",
        "  return DataMap\n",
        "\n",
        "def complexity_calculator_layer(tx, ty):\n",
        "  X = tx.to('cpu').numpy()\n",
        "  X = X.reshape(X.shape[0],-1)\n",
        "  y = ty.to('cpu').numpy()\n",
        "  # print(tx.size())\n",
        "  # print(X.shape)\n",
        "  # print(ty.size())\n",
        "  # print(y.shape)\n",
        "\n",
        "  complexity_measures = {}\n",
        "  # Extract complexity measures\n",
        "  mfe = MFEComplexity()\n",
        "\n",
        "  # F1\n",
        "  f1 = mfe.ft_f1(X, y)\n",
        "  # f1 = 1.0/(1.0+max(f1))\n",
        "  f1 = np.mean(f1)\n",
        "  complexity_measures[\"f1\"] = f1\n",
        "\n",
        "  # L1\n",
        "  print(\"Started L1\")\n",
        "  l1 = mfe.ft_l1(X, y)\n",
        "  l1 = np.mean(l1)\n",
        "  complexity_measures[\"l1\"] = l1\n",
        "\n",
        "  # N1\n",
        "  print(\"Started N1\")\n",
        "  n1 = mfe.ft_n1(X, y)\n",
        "  n1 = np.mean(n1)\n",
        "  complexity_measures[\"n1\"] = n1\n",
        "\n",
        "  # N2\n",
        "  print(\"Started N2\")\n",
        "  n2 = mfe.ft_n2(X, y)\n",
        "  n2 = np.mean(n2)\n",
        "  complexity_measures[\"n2\"] = n2\n",
        "\n",
        "  # N3\n",
        "  print(\"Started N3\")\n",
        "  n3 = mfe.ft_n3(X, y,metric='minkowski')\n",
        "  n3 = np.mean(n3)\n",
        "  complexity_measures[\"n3\"] = n3\n",
        "  print(complexity_measures)\n",
        "  return complexity_measures"
      ]
    },
    {
      "cell_type": "markdown",
      "metadata": {
        "id": "AWsS6rxnh9_Y"
      },
      "source": [
        "# Dados"
      ]
    },
    {
      "cell_type": "code",
      "execution_count": 13,
      "metadata": {
        "id": "XD89HhhqiE6z",
        "colab": {
          "base_uri": "https://localhost:8080/"
        },
        "outputId": "acd8dd50-9300-4827-f7e1-54765dc3926c"
      },
      "outputs": [
        {
          "output_type": "stream",
          "name": "stdout",
          "text": [
            "Downloading http://yann.lecun.com/exdb/mnist/train-images-idx3-ubyte.gz\n",
            "Downloading http://yann.lecun.com/exdb/mnist/train-images-idx3-ubyte.gz to mnist_data/MNIST/raw/train-images-idx3-ubyte.gz\n"
          ]
        },
        {
          "output_type": "stream",
          "name": "stderr",
          "text": [
            "100%|██████████| 9912422/9912422 [00:00<00:00, 85265670.04it/s]\n"
          ]
        },
        {
          "output_type": "stream",
          "name": "stdout",
          "text": [
            "Extracting mnist_data/MNIST/raw/train-images-idx3-ubyte.gz to mnist_data/MNIST/raw\n",
            "\n",
            "Downloading http://yann.lecun.com/exdb/mnist/train-labels-idx1-ubyte.gz\n",
            "Downloading http://yann.lecun.com/exdb/mnist/train-labels-idx1-ubyte.gz to mnist_data/MNIST/raw/train-labels-idx1-ubyte.gz\n"
          ]
        },
        {
          "output_type": "stream",
          "name": "stderr",
          "text": [
            "100%|██████████| 28881/28881 [00:00<00:00, 43480148.54it/s]"
          ]
        },
        {
          "output_type": "stream",
          "name": "stdout",
          "text": [
            "Extracting mnist_data/MNIST/raw/train-labels-idx1-ubyte.gz to mnist_data/MNIST/raw\n",
            "\n",
            "Downloading http://yann.lecun.com/exdb/mnist/t10k-images-idx3-ubyte.gz\n"
          ]
        },
        {
          "output_type": "stream",
          "name": "stderr",
          "text": [
            "\n"
          ]
        },
        {
          "output_type": "stream",
          "name": "stdout",
          "text": [
            "Downloading http://yann.lecun.com/exdb/mnist/t10k-images-idx3-ubyte.gz to mnist_data/MNIST/raw/t10k-images-idx3-ubyte.gz\n"
          ]
        },
        {
          "output_type": "stream",
          "name": "stderr",
          "text": [
            "100%|██████████| 1648877/1648877 [00:00<00:00, 20708121.68it/s]"
          ]
        },
        {
          "output_type": "stream",
          "name": "stdout",
          "text": [
            "Extracting mnist_data/MNIST/raw/t10k-images-idx3-ubyte.gz to mnist_data/MNIST/raw\n",
            "\n",
            "Downloading http://yann.lecun.com/exdb/mnist/t10k-labels-idx1-ubyte.gz\n"
          ]
        },
        {
          "output_type": "stream",
          "name": "stderr",
          "text": [
            "\n"
          ]
        },
        {
          "output_type": "stream",
          "name": "stdout",
          "text": [
            "Downloading http://yann.lecun.com/exdb/mnist/t10k-labels-idx1-ubyte.gz to mnist_data/MNIST/raw/t10k-labels-idx1-ubyte.gz\n"
          ]
        },
        {
          "output_type": "stream",
          "name": "stderr",
          "text": [
            "100%|██████████| 4542/4542 [00:00<00:00, 3667089.27it/s]\n"
          ]
        },
        {
          "output_type": "stream",
          "name": "stdout",
          "text": [
            "Extracting mnist_data/MNIST/raw/t10k-labels-idx1-ubyte.gz to mnist_data/MNIST/raw\n",
            "\n"
          ]
        }
      ],
      "source": [
        "# define transforms\n",
        "# transforms.ToTensor() automatically scales the images to [0,1] range\n",
        "transforms = transforms.Compose([transforms.Resize((32, 32)),\n",
        "                                 transforms.ToTensor()])\n",
        "\n",
        "# download and create datasets\n",
        "train_dataset = datasets.MNIST(root='mnist_data',\n",
        "                               train=True,\n",
        "                               transform=transforms,\n",
        "                               download=True)\n",
        "\n",
        "valid_dataset = datasets.MNIST(root='mnist_data',\n",
        "                               train=False,\n",
        "                               transform=transforms)\n",
        "\n",
        "# define the data loaders\n",
        "train_loader = DataLoader(dataset=train_dataset,\n",
        "                          batch_size=BATCH_SIZE,\n",
        "                          shuffle=True)\n",
        "\n",
        "valid_loader = DataLoader(dataset=valid_dataset,\n",
        "                          batch_size=BATCH_SIZE,\n",
        "                          shuffle=False)"
      ]
    },
    {
      "cell_type": "markdown",
      "metadata": {
        "id": "O8-GMjCSiC4U"
      },
      "source": [
        "## **Plotando Dados**"
      ]
    },
    {
      "cell_type": "code",
      "execution_count": 14,
      "metadata": {
        "id": "sWcTT2FziLS4"
      },
      "outputs": [],
      "source": [
        "ROW_IMG = 10\n",
        "N_ROWS = 5"
      ]
    },
    {
      "cell_type": "code",
      "execution_count": 15,
      "metadata": {
        "colab": {
          "base_uri": "https://localhost:8080/",
          "height": 443
        },
        "id": "ZPlIhiwziOQS",
        "outputId": "2cf42c5e-6ffe-41f7-d64f-a7f7e0694f62"
      },
      "outputs": [
        {
          "output_type": "display_data",
          "data": {
            "text/plain": [
              "<Figure size 640x480 with 50 Axes>"
            ],
            "image/png": "[encoded data removed]"
          },
          "metadata": {
            "image/png": {
              "width": 515,
              "height": 426
            }
          }
        }
      ],
      "source": [
        "fig = plt.figure()\n",
        "for index in range(1, ROW_IMG * N_ROWS + 1):\n",
        "    plt.subplot(N_ROWS, ROW_IMG, index)\n",
        "    plt.axis('off')\n",
        "    plt.imshow(train_dataset.data[index])\n",
        "fig.suptitle('MNIST Dataset - preview');"
      ]
    },
    {
      "cell_type": "code",
      "execution_count": 16,
      "metadata": {
        "colab": {
          "base_uri": "https://localhost:8080/",
          "height": 443
        },
        "id": "pFtrt9NxiQM3",
        "outputId": "d9734f43-c0ff-4436-b37c-198d291e7bb4"
      },
      "outputs": [
        {
          "output_type": "display_data",
          "data": {
            "text/plain": [
              "<Figure size 640x480 with 50 Axes>"
            ],
            "image/png": "[encoded data removed]"
          },
          "metadata": {
            "image/png": {
              "width": 515,
              "height": 426
            }
          }
        }
      ],
      "source": [
        "fig = plt.figure()\n",
        "for index in range(1, ROW_IMG * N_ROWS + 1):\n",
        "    plt.subplot(N_ROWS, ROW_IMG, index)\n",
        "    plt.axis('off')\n",
        "    plt.imshow(train_dataset.data[index], cmap='gray_r')\n",
        "fig.suptitle('MNIST Dataset - preview');"
      ]
    },
    {
      "cell_type": "markdown",
      "metadata": {
        "id": "e_psLT8OiZC6"
      },
      "source": [
        "# Implementação da rede"
      ]
    },
    {
      "cell_type": "code",
      "execution_count": 18,
      "metadata": {
        "colab": {
          "base_uri": "https://localhost:8080/",
          "height": 392
        },
        "id": "1OLRpAa7oeGm",
        "outputId": "b887550c-0b9a-4389-873d-926263c1dc7b"
      },
      "outputs": [
        {
          "output_type": "error",
          "ename": "MessageError",
          "evalue": "ignored",
          "traceback": [
            "\u001b[0;31m---------------------------------------------------------------------------\u001b[0m",
            "\u001b[0;31mMessageError\u001b[0m                              Traceback (most recent call last)",
            "\u001b[0;32m<ipython-input-18-b2a092124eba>\u001b[0m in \u001b[0;36m<cell line: 4>\u001b[0;34m()\u001b[0m\n\u001b[1;32m      2\u001b[0m \u001b[0mtestCompTable\u001b[0m \u001b[0;34m=\u001b[0m \u001b[0mpd\u001b[0m\u001b[0;34m.\u001b[0m\u001b[0mDataFrame\u001b[0m\u001b[0;34m(\u001b[0m\u001b[0;34m)\u001b[0m\u001b[0;34m\u001b[0m\u001b[0;34m\u001b[0m\u001b[0m\n\u001b[1;32m      3\u001b[0m \u001b[0;32mfrom\u001b[0m \u001b[0mgoogle\u001b[0m\u001b[0;34m.\u001b[0m\u001b[0mcolab\u001b[0m \u001b[0;32mimport\u001b[0m \u001b[0mdrive\u001b[0m\u001b[0;34m\u001b[0m\u001b[0;34m\u001b[0m\u001b[0m\n\u001b[0;32m----> 4\u001b[0;31m \u001b[0mdrive\u001b[0m\u001b[0;34m.\u001b[0m\u001b[0mmount\u001b[0m\u001b[0;34m(\u001b[0m\u001b[0;34m'/content/drive'\u001b[0m\u001b[0;34m)\u001b[0m\u001b[0;34m\u001b[0m\u001b[0;34m\u001b[0m\u001b[0m\n\u001b[0m\u001b[1;32m      5\u001b[0m \u001b[0mtrainCompTable\u001b[0m\u001b[0;34m.\u001b[0m\u001b[0mto_csv\u001b[0m\u001b[0;34m(\u001b[0m\u001b[0;34m'/content/drive/MyDrive/TG/train'\u001b[0m\u001b[0;34m+\u001b[0m\u001b[0mstr\u001b[0m\u001b[0;34m(\u001b[0m\u001b[0mBATCH_IMAGE_INDEX\u001b[0m\u001b[0;34m)\u001b[0m\u001b[0;34m+\u001b[0m\u001b[0;34m'_'\u001b[0m\u001b[0;34m+\u001b[0m\u001b[0mstr\u001b[0m\u001b[0;34m(\u001b[0m\u001b[0mSIZE_LOOP_TO_HOOK\u001b[0m\u001b[0;34m)\u001b[0m\u001b[0;34m+\u001b[0m\u001b[0;34m'_dropout.csv'\u001b[0m\u001b[0;34m)\u001b[0m\u001b[0;34m\u001b[0m\u001b[0;34m\u001b[0m\u001b[0m\n\u001b[1;32m      6\u001b[0m \u001b[0mtestCompTable\u001b[0m\u001b[0;34m.\u001b[0m\u001b[0mto_csv\u001b[0m\u001b[0;34m(\u001b[0m\u001b[0;34m'/content/drive/MyDrive/TG/test'\u001b[0m\u001b[0;34m+\u001b[0m\u001b[0mstr\u001b[0m\u001b[0;34m(\u001b[0m\u001b[0mBATCH_IMAGE_INDEX\u001b[0m\u001b[0;34m)\u001b[0m\u001b[0;34m+\u001b[0m\u001b[0;34m'_'\u001b[0m\u001b[0;34m+\u001b[0m\u001b[0mstr\u001b[0m\u001b[0;34m(\u001b[0m\u001b[0mSIZE_LOOP_TO_HOOK\u001b[0m\u001b[0;34m)\u001b[0m\u001b[0;34m+\u001b[0m\u001b[0;34m'_dropout.csv'\u001b[0m\u001b[0;34m)\u001b[0m\u001b[0;34m\u001b[0m\u001b[0;34m\u001b[0m\u001b[0m\n",
            "\u001b[0;32m/usr/local/lib/python3.10/dist-packages/google/colab/drive.py\u001b[0m in \u001b[0;36mmount\u001b[0;34m(mountpoint, force_remount, timeout_ms, readonly)\u001b[0m\n\u001b[1;32m    101\u001b[0m \u001b[0;32mdef\u001b[0m \u001b[0mmount\u001b[0m\u001b[0;34m(\u001b[0m\u001b[0mmountpoint\u001b[0m\u001b[0;34m,\u001b[0m \u001b[0mforce_remount\u001b[0m\u001b[0;34m=\u001b[0m\u001b[0;32mFalse\u001b[0m\u001b[0;34m,\u001b[0m \u001b[0mtimeout_ms\u001b[0m\u001b[0;34m=\u001b[0m\u001b[0;36m120000\u001b[0m\u001b[0;34m,\u001b[0m \u001b[0mreadonly\u001b[0m\u001b[0;34m=\u001b[0m\u001b[0;32mFalse\u001b[0m\u001b[0;34m)\u001b[0m\u001b[0;34m:\u001b[0m\u001b[0;34m\u001b[0m\u001b[0;34m\u001b[0m\u001b[0m\n\u001b[1;32m    102\u001b[0m   \u001b[0;34m\"\"\"Mount your Google Drive at the specified mountpoint path.\"\"\"\u001b[0m\u001b[0;34m\u001b[0m\u001b[0;34m\u001b[0m\u001b[0m\n\u001b[0;32m--> 103\u001b[0;31m   return _mount(\n\u001b[0m\u001b[1;32m    104\u001b[0m       \u001b[0mmountpoint\u001b[0m\u001b[0;34m,\u001b[0m\u001b[0;34m\u001b[0m\u001b[0;34m\u001b[0m\u001b[0m\n\u001b[1;32m    105\u001b[0m       \u001b[0mforce_remount\u001b[0m\u001b[0;34m=\u001b[0m\u001b[0mforce_remount\u001b[0m\u001b[0;34m,\u001b[0m\u001b[0;34m\u001b[0m\u001b[0;34m\u001b[0m\u001b[0m\n",
            "\u001b[0;32m/usr/local/lib/python3.10/dist-packages/google/colab/drive.py\u001b[0m in \u001b[0;36m_mount\u001b[0;34m(mountpoint, force_remount, timeout_ms, ephemeral, readonly)\u001b[0m\n\u001b[1;32m    130\u001b[0m   )\n\u001b[1;32m    131\u001b[0m   \u001b[0;32mif\u001b[0m \u001b[0mephemeral\u001b[0m\u001b[0;34m:\u001b[0m\u001b[0;34m\u001b[0m\u001b[0;34m\u001b[0m\u001b[0m\n\u001b[0;32m--> 132\u001b[0;31m     _message.blocking_request(\n\u001b[0m\u001b[1;32m    133\u001b[0m         \u001b[0;34m'request_auth'\u001b[0m\u001b[0;34m,\u001b[0m \u001b[0mrequest\u001b[0m\u001b[0;34m=\u001b[0m\u001b[0;34m{\u001b[0m\u001b[0;34m'authType'\u001b[0m\u001b[0;34m:\u001b[0m \u001b[0;34m'dfs_ephemeral'\u001b[0m\u001b[0;34m}\u001b[0m\u001b[0;34m,\u001b[0m \u001b[0mtimeout_sec\u001b[0m\u001b[0;34m=\u001b[0m\u001b[0;32mNone\u001b[0m\u001b[0;34m\u001b[0m\u001b[0;34m\u001b[0m\u001b[0m\n\u001b[1;32m    134\u001b[0m     )\n",
            "\u001b[0;32m/usr/local/lib/python3.10/dist-packages/google/colab/_message.py\u001b[0m in \u001b[0;36mblocking_request\u001b[0;34m(request_type, request, timeout_sec, parent)\u001b[0m\n\u001b[1;32m    174\u001b[0m       \u001b[0mrequest_type\u001b[0m\u001b[0;34m,\u001b[0m \u001b[0mrequest\u001b[0m\u001b[0;34m,\u001b[0m \u001b[0mparent\u001b[0m\u001b[0;34m=\u001b[0m\u001b[0mparent\u001b[0m\u001b[0;34m,\u001b[0m \u001b[0mexpect_reply\u001b[0m\u001b[0;34m=\u001b[0m\u001b[0;32mTrue\u001b[0m\u001b[0;34m\u001b[0m\u001b[0;34m\u001b[0m\u001b[0m\n\u001b[1;32m    175\u001b[0m   )\n\u001b[0;32m--> 176\u001b[0;31m   \u001b[0;32mreturn\u001b[0m \u001b[0mread_reply_from_input\u001b[0m\u001b[0;34m(\u001b[0m\u001b[0mrequest_id\u001b[0m\u001b[0;34m,\u001b[0m \u001b[0mtimeout_sec\u001b[0m\u001b[0;34m)\u001b[0m\u001b[0;34m\u001b[0m\u001b[0;34m\u001b[0m\u001b[0m\n\u001b[0m",
            "\u001b[0;32m/usr/local/lib/python3.10/dist-packages/google/colab/_message.py\u001b[0m in \u001b[0;36mread_reply_from_input\u001b[0;34m(message_id, timeout_sec)\u001b[0m\n\u001b[1;32m    101\u001b[0m     ):\n\u001b[1;32m    102\u001b[0m       \u001b[0;32mif\u001b[0m \u001b[0;34m'error'\u001b[0m \u001b[0;32min\u001b[0m \u001b[0mreply\u001b[0m\u001b[0;34m:\u001b[0m\u001b[0;34m\u001b[0m\u001b[0;34m\u001b[0m\u001b[0m\n\u001b[0;32m--> 103\u001b[0;31m         \u001b[0;32mraise\u001b[0m \u001b[0mMessageError\u001b[0m\u001b[0;34m(\u001b[0m\u001b[0mreply\u001b[0m\u001b[0;34m[\u001b[0m\u001b[0;34m'error'\u001b[0m\u001b[0;34m]\u001b[0m\u001b[0;34m)\u001b[0m\u001b[0;34m\u001b[0m\u001b[0;34m\u001b[0m\u001b[0m\n\u001b[0m\u001b[1;32m    104\u001b[0m       \u001b[0;32mreturn\u001b[0m \u001b[0mreply\u001b[0m\u001b[0;34m.\u001b[0m\u001b[0mget\u001b[0m\u001b[0;34m(\u001b[0m\u001b[0;34m'data'\u001b[0m\u001b[0;34m,\u001b[0m \u001b[0;32mNone\u001b[0m\u001b[0;34m)\u001b[0m\u001b[0;34m\u001b[0m\u001b[0;34m\u001b[0m\u001b[0m\n\u001b[1;32m    105\u001b[0m \u001b[0;34m\u001b[0m\u001b[0m\n",
            "\u001b[0;31mMessageError\u001b[0m: Error: credential propagation was unsuccessful"
          ]
        }
      ],
      "source": [
        "trainCompTable = pd.DataFrame()\n",
        "testCompTable = pd.DataFrame()\n",
        "from google.colab import drive\n",
        "drive.mount('/content/drive')\n",
        "trainCompTable.to_csv('/content/drive/MyDrive/TG/train'+str(BATCH_IMAGE_INDEX)+'_'+str(SIZE_LOOP_TO_HOOK)+'_dropout.csv')\n",
        "testCompTable.to_csv('/content/drive/MyDrive/TG/test'+str(BATCH_IMAGE_INDEX)+'_'+str(SIZE_LOOP_TO_HOOK)+'_dropout.csv')"
      ]
    },
    {
      "cell_type": "code",
      "execution_count": 19,
      "metadata": {
        "id": "aeWqAa15qYHA"
      },
      "outputs": [],
      "source": [
        "class LeNet5Dropout(nn.Module):\n",
        "\n",
        "    def __init__(self, n_classes):\n",
        "        super(LeNet5Dropout, self).__init__()\n",
        "\n",
        "        # feature extraction\n",
        "        self.conv1 = nn.Conv2d(in_channels=1, out_channels=6, kernel_size=5, stride=1)\n",
        "        self.drop1 = nn.Dropout2d(p=0.2)\n",
        "        self.tanh1 = nn.Tanh()\n",
        "        self.pool1 = nn.AvgPool2d(kernel_size=2)\n",
        "        self.conv2 = nn.Conv2d(in_channels=6, out_channels=16, kernel_size=5, stride=1)\n",
        "        self.drop2 = nn.Dropout2d(p=0.2)\n",
        "        self.tanh2 = nn.Tanh()\n",
        "        self.pool2 = nn.AvgPool2d(kernel_size=2)\n",
        "        self.conv3 = nn.Conv2d(in_channels=16, out_channels=120, kernel_size=5, stride=1)\n",
        "        self.drop3 = nn.Dropout2d(p=0.2)\n",
        "        self.tanh3 = nn.Tanh()\n",
        "\n",
        "        # fully connected\n",
        "        self.linr1 = nn.Linear(in_features=120, out_features=84)\n",
        "        self.drop4 = nn.Dropout2d(p=0.2)\n",
        "        self.tanh4 = nn.Tanh()\n",
        "        self.linr2 = nn.Linear(in_features=84, out_features=n_classes)\n",
        "\n",
        "\n",
        "    def forward(self, x):\n",
        "\n",
        "        # feature extraction\n",
        "        x = self.conv1(x)\n",
        "        x = self.drop1(x)\n",
        "        x = self.tanh1(x)\n",
        "        x = self.pool1(x)\n",
        "        x = self.conv2(x)\n",
        "        x = self.drop2(x)\n",
        "        x = self.tanh2(x)\n",
        "        x = self.pool2(x)\n",
        "        x = self.conv3(x)\n",
        "        x = self.drop3(x)\n",
        "        x = self.tanh3(x)\n",
        "\n",
        "        # fully connected\n",
        "        x = torch.flatten(x, 1)\n",
        "        x = self.linr1(x)\n",
        "        x = self.drop4(x)\n",
        "        x = self.tanh4(x)\n",
        "        x = self.linr2(x)\n",
        "\n",
        "        logits = x\n",
        "        probs = F.softmax(logits, dim=1)\n",
        "        return logits, probs"
      ]
    },
    {
      "cell_type": "code",
      "execution_count": 20,
      "metadata": {
        "id": "RL_bXgc_iTdY"
      },
      "outputs": [],
      "source": [
        "torch.manual_seed(RANDOM_SEED)\n",
        "\n",
        "model = LeNet5Dropout(N_CLASSES).to(DEVICE)\n",
        "optimizer = torch.optim.Adam(model.parameters(), lr=LEARNING_RATE)\n",
        "criterion = nn.CrossEntropyLoss()"
      ]
    },
    {
      "cell_type": "code",
      "execution_count": null,
      "metadata": {
        "id": "H-jat9AYiWK1"
      },
      "outputs": [],
      "source": [
        "model, optimizer, _, (trainCompTable, testCompTable), (train_accuracy, valid_accuracy) = training_loop_with_hooks(model,\n",
        "                                                                                criterion,\n",
        "                                                                                optimizer,\n",
        "                                                                                train_loader,\n",
        "                                                                                valid_loader,\n",
        "                                                                                N_EPOCHS,\n",
        "                                                                                DEVICE,\n",
        "                                                                                hook_every=SIZE_LOOP_TO_HOOK,\n",
        "                                                                                hook_layers=False)"
      ]
    },
    {
      "cell_type": "code",
      "source": [
        "train_accuracy.to_csv('/content/drive/MyDrive/TG/train_accuracy'+'_'+str(SIZE_LOOP_TO_HOOK)+\"_\"+str(N_EPOCHS)+'_dropout.csv')\n",
        "valid_accuracy.to_csv('/content/drive/MyDrive/TG/test_accuracy'+'_'+str(SIZE_LOOP_TO_HOOK)+\"_\"+str(N_EPOCHS)+'_dropout.csv')"
      ],
      "metadata": {
        "id": "AMchLzkDcekJ"
      },
      "execution_count": null,
      "outputs": []
    },
    {
      "cell_type": "code",
      "execution_count": null,
      "metadata": {
        "id": "tVom8dPcdkG5"
      },
      "outputs": [],
      "source": [
        "\n",
        "trainCompTable.to_csv('/content/drive/MyDrive/TG/train'+str(BATCH_IMAGE_INDEX)+'_'+str(SIZE_LOOP_TO_HOOK)+'_dropout.csv')\n",
        "testCompTable.to_csv('/content/drive/MyDrive/TG/test'+str(BATCH_IMAGE_INDEX)+'_'+str(SIZE_LOOP_TO_HOOK)+'_dropout.csv')"
      ]
    }
  ],
  "metadata": {
    "accelerator": "GPU",
    "colab": {
      "provenance": []
    },
    "kernelspec": {
      "display_name": "Python 3",
      "name": "python3"
    },
    "language_info": {
      "name": "python"
    }
  },
  "nbformat": 4,
  "nbformat_minor": 0
}