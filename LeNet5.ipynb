{
  "cells": [
    {
      "cell_type": "markdown",
      "metadata": {
        "id": "Kee71UgtfbtE"
      },
      "source": [
        "# Setup"
      ]
    },
    {
      "cell_type": "code",
      "execution_count": null,
      "metadata": {
        "colab": {
          "base_uri": "https://localhost:8080/"
        },
        "id": "aDIB0buwcK4j",
        "outputId": "39ce7f54-2adc-47ad-c6e4-5369993b9ab9"
      },
      "outputs": [
        {
          "name": "stdout",
          "output_type": "stream",
          "text": [
            "Requirement already satisfied: pymfe in /usr/local/lib/python3.10/dist-packages (0.4.2)\n",
            "Requirement already satisfied: numpy in /usr/local/lib/python3.10/dist-packages (from pymfe) (1.23.5)\n",
            "Requirement already satisfied: scipy in /usr/local/lib/python3.10/dist-packages (from pymfe) (1.11.3)\n",
            "Requirement already satisfied: scikit-learn in /usr/local/lib/python3.10/dist-packages (from pymfe) (1.2.2)\n",
            "Requirement already satisfied: patsy in /usr/local/lib/python3.10/dist-packages (from pymfe) (0.5.3)\n",
            "Requirement already satisfied: pandas in /usr/local/lib/python3.10/dist-packages (from pymfe) (1.5.3)\n",
            "Requirement already satisfied: statsmodels in /usr/local/lib/python3.10/dist-packages (from pymfe) (0.14.0)\n",
            "Requirement already satisfied: texttable in /usr/local/lib/python3.10/dist-packages (from pymfe) (1.7.0)\n",
            "Requirement already satisfied: tqdm in /usr/local/lib/python3.10/dist-packages (from pymfe) (4.66.1)\n",
            "Requirement already satisfied: igraph>=0.10.1 in /usr/local/lib/python3.10/dist-packages (from pymfe) (0.11.2)\n",
            "Requirement already satisfied: gower in /usr/local/lib/python3.10/dist-packages (from pymfe) (0.1.2)\n",
            "Requirement already satisfied: python-dateutil>=2.8.1 in /usr/local/lib/python3.10/dist-packages (from pandas->pymfe) (2.8.2)\n",
            "Requirement already satisfied: pytz>=2020.1 in /usr/local/lib/python3.10/dist-packages (from pandas->pymfe) (2023.3.post1)\n",
            "Requirement already satisfied: six in /usr/local/lib/python3.10/dist-packages (from patsy->pymfe) (1.16.0)\n",
            "Requirement already satisfied: joblib>=1.1.1 in /usr/local/lib/python3.10/dist-packages (from scikit-learn->pymfe) (1.3.2)\n",
            "Requirement already satisfied: threadpoolctl>=2.0.0 in /usr/local/lib/python3.10/dist-packages (from scikit-learn->pymfe) (3.2.0)\n",
            "Requirement already satisfied: packaging>=21.3 in /usr/local/lib/python3.10/dist-packages (from statsmodels->pymfe) (23.2)\n"
          ]
        }
      ],
      "source": [
        "!pip install -U pymfe"
      ]
    },
    {
      "cell_type": "code",
      "execution_count": null,
      "metadata": {
        "id": "c8mUTMNzhuvX"
      },
      "outputs": [],
      "source": [
        "import numpy as np\n",
        "from datetime import datetime\n",
        "\n",
        "import torch\n",
        "import torch.nn as nn\n",
        "import torch.nn.functional as F\n",
        "from torch.utils.data import DataLoader\n",
        "import pandas as pd\n",
        "\n",
        "from torchvision import datasets, transforms\n",
        "\n",
        "import matplotlib.pyplot as plt\n",
        "\n",
        "DEVICE = 'cuda' if torch.cuda.is_available() else 'cpu'\n",
        "%config InlineBackend.figure_format = 'retina'"
      ]
    },
    {
      "cell_type": "code",
      "execution_count": null,
      "metadata": {
        "id": "7fgcJ1v6iBaN"
      },
      "outputs": [],
      "source": [
        "# parameters\n",
        "RANDOM_SEED = 42\n",
        "LEARNING_RATE = 0.001\n",
        "BATCH_SIZE = 32\n",
        "N_EPOCHS = 25\n",
        "BATCH_IMAGE_INDEX = 0\n",
        "SIZE_LOOP_TO_HOOK = 1\n",
        "\n",
        "\n",
        "IMG_SIZE = 32\n",
        "N_CLASSES = 10"
      ]
    },
    {
      "cell_type": "markdown",
      "metadata": {
        "id": "u5UEh3ZMh28r"
      },
      "source": [
        "# Funções auxiliares"
      ]
    },
    {
      "cell_type": "code",
      "execution_count": null,
      "metadata": {
        "id": "VKlWItKqiDYX"
      },
      "outputs": [],
      "source": [
        "def get_accuracy(model, data_loader, device):\n",
        "    '''\n",
        "    Function for computing the accuracy of the predictions over the entire data_loader\n",
        "    '''\n",
        "\n",
        "    correct_pred = 0\n",
        "    n = 0\n",
        "\n",
        "    with torch.no_grad():\n",
        "        model.eval()\n",
        "        for X, y_true in data_loader:\n",
        "\n",
        "            X = X.to(device)\n",
        "            y_true = y_true.to(device)\n",
        "\n",
        "            _, y_prob = model(X)\n",
        "            _, predicted_labels = torch.max(y_prob, 1)\n",
        "\n",
        "            n += y_true.size(0)\n",
        "            correct_pred += (predicted_labels == y_true).sum()\n",
        "\n",
        "    return correct_pred.float() / n\n",
        "\n",
        "def plot_losses(train_losses, valid_losses):\n",
        "    '''\n",
        "    Function for plotting training and validation losses\n",
        "    '''\n",
        "\n",
        "    # temporarily change the style of the plots to seaborn\n",
        "    plt.style.use('seaborn')\n",
        "\n",
        "    train_losses = np.array(train_losses)\n",
        "    valid_losses = np.array(valid_losses)\n",
        "\n",
        "    fig, ax = plt.subplots(figsize = (8, 4.5))\n",
        "\n",
        "    ax.plot(train_losses, color='blue', label='Training loss')\n",
        "    ax.plot(valid_losses, color='red', label='Validation loss')\n",
        "    ax.set(title=\"Loss over epochs\",\n",
        "            xlabel='Epoch',\n",
        "            ylabel='Loss')\n",
        "    ax.legend()\n",
        "    fig.show()\n",
        "\n",
        "    # change the plot style to default\n",
        "    plt.style.use('default')\n",
        "\n",
        "def train(train_loader, model, criterion, optimizer, device):\n",
        "    '''\n",
        "    Function for the training step of the training loop\n",
        "    '''\n",
        "\n",
        "    model.train()\n",
        "    running_loss = 0\n",
        "\n",
        "    for X, y_true in train_loader:\n",
        "\n",
        "        optimizer.zero_grad()\n",
        "\n",
        "        X = X.to(device)\n",
        "        y_true = y_true.to(device)\n",
        "\n",
        "        # Forward pass\n",
        "        y_hat, _ = model(X)\n",
        "        loss = criterion(y_hat, y_true)\n",
        "        running_loss += loss.item() * X.size(0)\n",
        "\n",
        "        # Backward pass\n",
        "        loss.backward()\n",
        "        optimizer.step()\n",
        "\n",
        "    epoch_loss = running_loss / len(train_loader.dataset)\n",
        "    return model, optimizer, epoch_loss\n",
        "\n",
        "def validate(valid_loader, model, criterion, device):\n",
        "    '''\n",
        "    Function for the validation step of the training loop\n",
        "    '''\n",
        "\n",
        "    model.eval()\n",
        "    running_loss = 0\n",
        "\n",
        "    for X, y_true in valid_loader:\n",
        "\n",
        "        X = X.to(device)\n",
        "        y_true = y_true.to(device)\n",
        "\n",
        "        # Forward pass and record loss\n",
        "        y_hat, _ = model(X)\n",
        "        loss = criterion(y_hat, y_true)\n",
        "        running_loss += loss.item() * X.size(0)\n",
        "\n",
        "    epoch_loss = running_loss / len(valid_loader.dataset)\n",
        "\n",
        "    return model, epoch_loss\n",
        "\n",
        "def training_loop(model, criterion, optimizer, train_loader, valid_loader, epochs, device, print_every=1):\n",
        "    '''\n",
        "    Function defining the entire training loop\n",
        "    '''\n",
        "\n",
        "    # set objects for storing metrics\n",
        "    best_loss = 1e10\n",
        "    train_losses = []\n",
        "    valid_losses = []\n",
        "\n",
        "    # Train model\n",
        "    for epoch in range(0, epochs):\n",
        "\n",
        "        # training\n",
        "        model, optimizer, train_loss = train(train_loader, model, criterion, optimizer, device)\n",
        "        train_losses.append(train_loss)\n",
        "\n",
        "        # validation\n",
        "        with torch.no_grad():\n",
        "            model, valid_loss = validate(valid_loader, model, criterion, device)\n",
        "            valid_losses.append(valid_loss)\n",
        "\n",
        "        if epoch % print_every == (print_every - 1):\n",
        "\n",
        "            train_acc = get_accuracy(model, train_loader, device=device)\n",
        "            valid_acc = get_accuracy(model, valid_loader, device=device)\n",
        "\n",
        "            print(f'{datetime.now().time().replace(microsecond=0)} --- '\n",
        "                  f'Epoch: {epoch}\\t'\n",
        "                  f'Train loss: {train_loss:.4f}\\t'\n",
        "                  f'Valid loss: {valid_loss:.4f}\\t'\n",
        "                  f'Train accuracy: {100 * train_acc:.2f}\\t'\n",
        "                  f'Valid accuracy: {100 * valid_acc:.2f}')\n",
        "\n",
        "    plot_losses(train_losses, valid_losses)\n",
        "\n",
        "    return model, optimizer, (train_losses, valid_losses)"
      ]
    },
    {
      "cell_type": "code",
      "execution_count": null,
      "metadata": {
        "id": "OkiBqk_PoVx3"
      },
      "outputs": [],
      "source": [
        "# intermediateRepresentationsMapTensor = {}\n",
        "\n",
        "def get_accuracy_with_hooks(model, data_loader, intermediateRepresentationsMapTensor, ty, device,hook_layers=True):\n",
        "    '''\n",
        "    Function for computing the accuracy of the predictions over the entire data_loader\n",
        "    '''\n",
        "\n",
        "    correct_pred = 0\n",
        "    n = 0\n",
        "    # tys = []\n",
        "    with torch.no_grad():\n",
        "        model.eval()\n",
        "        for X, y_true in data_loader:\n",
        "\n",
        "            X = X.to(device)\n",
        "            y_true = y_true.to(device)\n",
        "            ty = torch.cat((ty,y_true[BATCH_IMAGE_INDEX].reshape(1)),0)\n",
        "            # tys.append(y_true[0])\n",
        "\n",
        "            _, y_prob = model(X)\n",
        "            _, predicted_labels = torch.max(y_prob, 1)\n",
        "            if hook_layers:\n",
        "              for _, (layerName, layer) in enumerate(model.named_children()):\n",
        "                # print(activation[layerName].size())\n",
        "                # print(activation[layerName][0].size())\n",
        "                if layerName in intermediateRepresentationsMapTensor:\n",
        "                  t = intermediateRepresentationsMapTensor[layerName]\n",
        "                  # t = torch.cat((t,activation[layerName]),0)\n",
        "                  t = torch.cat((t,torch.unsqueeze(activation[layerName][BATCH_IMAGE_INDEX],0)),0)\n",
        "                  # print(t.size())\n",
        "                  intermediateRepresentationsMapTensor[layerName] = t\n",
        "                else:\n",
        "                  intermediateRepresentationsMapTensor[layerName] = torch.unsqueeze(activation[layerName][BATCH_IMAGE_INDEX],0)\n",
        "\n",
        "            n += y_true.size(0)\n",
        "            correct_pred += (predicted_labels == y_true).sum()\n",
        "\n",
        "\n",
        "    return (correct_pred.float() / n, ty)\n",
        "\n",
        "def training_loop_with_hooks(model, criterion, optimizer, train_loader, valid_loader, epochs, device, hook_every=1,hook_layers=True):\n",
        "    '''\n",
        "    Function defining the entire training loop\n",
        "    '''\n",
        "\n",
        "    # set objects for storing metrics\n",
        "    best_loss = 1e10\n",
        "    train_losses = []\n",
        "    valid_losses = []\n",
        "    train_accuracy = pd.DataFrame(columns=['epoch','value'])\n",
        "    valid_accuracy = pd.DataFrame(columns=['epoch','value'])\n",
        "\n",
        "    testCompTable = pd.DataFrame(columns=['epoch','layer','metric','value'])\n",
        "    trainCompTable = pd.DataFrame(columns=['epoch','layer','metric','value'])\n",
        "\n",
        "\n",
        "    # Train model\n",
        "    for epoch in range(0, epochs):\n",
        "\n",
        "        # training\n",
        "        model, optimizer, train_loss = train(train_loader, model, criterion, optimizer, device)\n",
        "        train_losses.append(train_loss)\n",
        "\n",
        "        # validation\n",
        "        with torch.no_grad():\n",
        "            model, valid_loss = validate(valid_loader, model, criterion, device)\n",
        "            valid_losses.append(valid_loss)\n",
        "\n",
        "        if (epoch % hook_every == (hook_every - 1)):\n",
        "\n",
        "            if(hook_layers):\n",
        "              hooks = attach_hooks(model)\n",
        "            ty = torch.Tensor().to(DEVICE)\n",
        "            intermediateRepresentationsMapTensor = {}\n",
        "            train_acc, ty = get_accuracy_with_hooks(model, train_loader, intermediateRepresentationsMapTensor, ty, device=device,hook_layers=hook_layers)\n",
        "            # print(ty)\n",
        "            # print(intermediateRepresentationsMapTensor)\n",
        "            entry = {\"epoch\": epoch, \"value\": train_acc.to('cpu').numpy()}\n",
        "            entryDf = pd.DataFrame(entry, index=[0])\n",
        "            train_accuracy = pd.concat([train_accuracy,entryDf],ignore_index=True)\n",
        "            trainCompTable = complexity_calculator(trainCompTable,intermediateRepresentationsMapTensor,ty,epoch)\n",
        "\n",
        "\n",
        "            ty = torch.Tensor().to(DEVICE)\n",
        "            intermediateRepresentationsMapTensor = {}\n",
        "            valid_acc, ty = get_accuracy_with_hooks(model, valid_loader, intermediateRepresentationsMapTensor, ty, device=device,hook_layers=hook_layers)\n",
        "            entry = {\"epoch\": epoch, \"value\": valid_acc.to('cpu').numpy()}\n",
        "            entryDf = pd.DataFrame(entry, index=[0])\n",
        "            valid_accuracy = pd.concat([valid_accuracy,entryDf],ignore_index=True)\n",
        "            testCompTable = complexity_calculator(testCompTable,intermediateRepresentationsMapTensor,ty,epoch)\n",
        "\n",
        "            if(hook_layers):\n",
        "              remove_hooks(hooks)\n",
        "            print(f'{datetime.now().time().replace(microsecond=0)} --- '\n",
        "                  f'Epoch: {epoch}\\t'\n",
        "                  f'Train loss: {train_loss:.4f}\\t'\n",
        "                  f'Valid loss: {valid_loss:.4f}\\t'\n",
        "                  f'Train accuracy: {100 * train_acc:.2f}\\t'\n",
        "                  f'Valid accuracy: {100 * valid_acc:.2f}')\n",
        "\n",
        "    plot_losses(train_losses, valid_losses)\n",
        "\n",
        "    return model, optimizer, (train_losses, valid_losses), (trainCompTable,testCompTable), (train_accuracy, valid_accuracy)\n",
        "\n",
        "activation = {}\n",
        "def getActivation(name):\n",
        "    # the hook signature\n",
        "    def hook(model, input, output):\n",
        "        activation[name] = output.detach()\n",
        "    return hook\n",
        "\n",
        "def attach_hooks(model):\n",
        "  hooks = []\n",
        "  for idx, (layerName, layer) in enumerate(model.named_children()):\n",
        "    hooks.append(layer.register_forward_hook(getActivation(layerName)))\n",
        "  return hooks\n",
        "\n",
        "def remove_hooks(hooks):\n",
        "  for h in hooks:\n",
        "    h.remove()\n",
        "\n",
        "def complexity_calculator(DataMap,intermediateRepresentationsMapTensor,ty,epoch):\n",
        "  for layerName in intermediateRepresentationsMapTensor.keys():\n",
        "    intermediateRepresentationsTensor = intermediateRepresentationsMapTensor[layerName]\n",
        "    complexitiesMap = complexity_calculator_layer(intermediateRepresentationsTensor,ty)\n",
        "    for complexityMetric in complexitiesMap.keys():\n",
        "      entry = {\"epoch\": epoch, \"layer\": layerName, \"metric\": complexityMetric, \"value\": complexitiesMap[complexityMetric]}\n",
        "      entryDf = pd.DataFrame(entry, index=[0])\n",
        "      # DataMap.append(entry,ignore_index=True)\n",
        "      DataMap = pd.concat([DataMap,entryDf],ignore_index=True)\n",
        "  return DataMap\n",
        "\n",
        "def complexity_calculator_layer(tx, ty):\n",
        "  X = tx.to('cpu').numpy()\n",
        "  X = X.reshape(X.shape[0],-1)\n",
        "  y = ty.to('cpu').numpy()\n",
        "  # print(tx.size())\n",
        "  # print(X.shape)\n",
        "  # print(ty.size())\n",
        "  # print(y.shape)\n",
        "\n",
        "  complexity_measures = {}\n",
        "  # Extract complexity measures\n",
        "  mfe = MFEComplexity()\n",
        "\n",
        "  # F1\n",
        "  f1 = mfe.ft_f1(X, y)\n",
        "  # f1 = 1.0/(1.0+max(f1))\n",
        "  f1 = np.mean(f1)\n",
        "  complexity_measures[\"f1\"] = f1\n",
        "\n",
        "  # L1\n",
        "  print(\"Started L1\")\n",
        "  l1 = mfe.ft_l1(X, y)\n",
        "  l1 = np.mean(l1)\n",
        "  complexity_measures[\"l1\"] = l1\n",
        "\n",
        "  # N1\n",
        "  print(\"Started N1\")\n",
        "  n1 = mfe.ft_n1(X, y)\n",
        "  n1 = np.mean(n1)\n",
        "  complexity_measures[\"n1\"] = n1\n",
        "\n",
        "  # N2\n",
        "  print(\"Started N2\")\n",
        "  n2 = mfe.ft_n2(X, y)\n",
        "  n2 = np.mean(n2)\n",
        "  complexity_measures[\"n2\"] = n2\n",
        "\n",
        "  # N3\n",
        "  print(\"Started N3\")\n",
        "  n3 = mfe.ft_n3(X, y,metric='minkowski')\n",
        "  n3 = np.mean(n3)\n",
        "  complexity_measures[\"n3\"] = n3\n",
        "  print(complexity_measures)\n",
        "  return complexity_measures"
      ]
    },
    {
      "cell_type": "markdown",
      "metadata": {
        "id": "AWsS6rxnh9_Y"
      },
      "source": [
        "# Dados"
      ]
    },
    {
      "cell_type": "code",
      "execution_count": null,
      "metadata": {
        "colab": {
          "base_uri": "https://localhost:8080/",
          "height": 247
        },
        "id": "XD89HhhqiE6z",
        "outputId": "95a0ac60-6f65-42d5-a244-d80186a0c050"
      },
      "outputs": [
        {
          "ename": "AttributeError",
          "evalue": "ignored",
          "output_type": "error",
          "traceback": [
            "\u001b[0;31m---------------------------------------------------------------------------\u001b[0m",
            "\u001b[0;31mAttributeError\u001b[0m                            Traceback (most recent call last)",
            "\u001b[0;32m<ipython-input-38-84329297dac4>\u001b[0m in \u001b[0;36m<cell line: 3>\u001b[0;34m()\u001b[0m\n\u001b[1;32m      1\u001b[0m \u001b[0;31m# define transforms\u001b[0m\u001b[0;34m\u001b[0m\u001b[0;34m\u001b[0m\u001b[0m\n\u001b[1;32m      2\u001b[0m \u001b[0;31m# transforms.ToTensor() automatically scales the images to [0,1] range\u001b[0m\u001b[0;34m\u001b[0m\u001b[0;34m\u001b[0m\u001b[0m\n\u001b[0;32m----> 3\u001b[0;31m transforms = transforms.Compose([transforms.Resize((32, 32)),\n\u001b[0m\u001b[1;32m      4\u001b[0m                                  transforms.ToTensor()])\n\u001b[1;32m      5\u001b[0m \u001b[0;34m\u001b[0m\u001b[0m\n",
            "\u001b[0;31mAttributeError\u001b[0m: 'Compose' object has no attribute 'Compose'"
          ]
        }
      ],
      "source": [
        "# define transforms\n",
        "# transforms.ToTensor() automatically scales the images to [0,1] range\n",
        "transforms = transforms.Compose([transforms.Resize((32, 32)),\n",
        "                                 transforms.ToTensor()])\n",
        "\n",
        "# download and create datasets\n",
        "train_dataset = datasets.MNIST(root='mnist_data',\n",
        "                               train=True,\n",
        "                               transform=transforms,\n",
        "                               download=True)\n",
        "\n",
        "valid_dataset = datasets.MNIST(root='mnist_data',\n",
        "                               train=False,\n",
        "                               transform=transforms)\n",
        "\n",
        "# define the data loaders\n",
        "train_loader = DataLoader(dataset=train_dataset,\n",
        "                          batch_size=BATCH_SIZE,\n",
        "                          shuffle=True)\n",
        "\n",
        "valid_loader = DataLoader(dataset=valid_dataset,\n",
        "                          batch_size=BATCH_SIZE,\n",
        "                          shuffle=False)"
      ]
    },
    {
      "cell_type": "code",
      "execution_count": null,
      "metadata": {
        "colab": {
          "base_uri": "https://localhost:8080/"
        },
        "id": "UMFdbkHaPFAk",
        "outputId": "284e4a1a-8e5d-4397-b337-da1975cdfe36"
      },
      "outputs": [
        {
          "data": {
            "text/plain": [
              "Dataset MNIST\n",
              "    Number of datapoints: 10000\n",
              "    Root location: mnist_data\n",
              "    Split: Test\n",
              "    StandardTransform\n",
              "Transform: Compose(\n",
              "               Resize(size=(32, 32), interpolation=bilinear, max_size=None, antialias=warn)\n",
              "               ToTensor()\n",
              "           )"
            ]
          },
          "execution_count": 39,
          "metadata": {},
          "output_type": "execute_result"
        }
      ],
      "source": [
        "valid_loader.dataset"
      ]
    },
    {
      "cell_type": "markdown",
      "metadata": {
        "id": "O8-GMjCSiC4U"
      },
      "source": [
        "## **Plotando Dados**"
      ]
    },
    {
      "cell_type": "code",
      "execution_count": null,
      "metadata": {
        "id": "sWcTT2FziLS4"
      },
      "outputs": [],
      "source": [
        "ROW_IMG = 10\n",
        "N_ROWS = 5"
      ]
    },
    {
      "cell_type": "code",
      "execution_count": null,
      "metadata": {
        "colab": {
          "base_uri": "https://localhost:8080/",
          "height": 443
        },
        "id": "ZPlIhiwziOQS",
        "outputId": "06758d6b-73f5-4d21-ee7f-4b71928a6a29"
      },
      "outputs": [
        {
          "data": {
            "image/png": "[encoded data removed]",
            "text/plain": [
              "<Figure size 640x480 with 50 Axes>"
            ]
          },
          "metadata": {
            "image/png": {
              "height": 426,
              "width": 515
            }
          },
          "output_type": "display_data"
        }
      ],
      "source": [
        "fig = plt.figure()\n",
        "for index in range(1, ROW_IMG * N_ROWS + 1):\n",
        "    plt.subplot(N_ROWS, ROW_IMG, index)\n",
        "    plt.axis('off')\n",
        "    plt.imshow(train_dataset.data[index])\n",
        "fig.suptitle('MNIST Dataset - preview');"
      ]
    },
    {
      "cell_type": "code",
      "execution_count": null,
      "metadata": {
        "colab": {
          "base_uri": "https://localhost:8080/",
          "height": 443
        },
        "id": "pFtrt9NxiQM3",
        "outputId": "1d913034-4f2e-4751-d848-f09050d0b82b"
      },
      "outputs": [
        {
          "data": {
            "image/png": "[encoded data removed]",
            "text/plain": [
              "<Figure size 640x480 with 50 Axes>"
            ]
          },
          "metadata": {
            "image/png": {
              "height": 426,
              "width": 515
            }
          },
          "output_type": "display_data"
        }
      ],
      "source": [
        "fig = plt.figure()\n",
        "for index in range(1, ROW_IMG * N_ROWS + 1):\n",
        "    plt.subplot(N_ROWS, ROW_IMG, index)\n",
        "    plt.axis('off')\n",
        "    plt.imshow(train_dataset.data[index], cmap='gray_r')\n",
        "fig.suptitle('MNIST Dataset - preview');"
      ]
    },
    {
      "cell_type": "markdown",
      "metadata": {
        "id": "e_psLT8OiZC6"
      },
      "source": [
        "# Implementação da rede"
      ]
    },
    {
      "cell_type": "code",
      "execution_count": null,
      "metadata": {
        "colab": {
          "base_uri": "https://localhost:8080/"
        },
        "id": "1OLRpAa7oeGm",
        "outputId": "6eb16cc9-30b8-4a5a-cb6c-47c0d1018089"
      },
      "outputs": [
        {
          "name": "stdout",
          "output_type": "stream",
          "text": [
            "Drive already mounted at /content/drive; to attempt to forcibly remount, call drive.mount(\"/content/drive\", force_remount=True).\n"
          ]
        }
      ],
      "source": [
        "trainCompTable = pd.DataFrame()\n",
        "testCompTable = pd.DataFrame()\n",
        "from google.colab import drive\n",
        "drive.mount('/content/drive')\n",
        "trainCompTable.to_csv('/content/drive/MyDrive/TG/train'+str(BATCH_IMAGE_INDEX)+'_'+str(SIZE_LOOP_TO_HOOK)+'.csv')\n",
        "testCompTable.to_csv('/content/drive/MyDrive/TG/test'+str(BATCH_IMAGE_INDEX)+'_'+str(SIZE_LOOP_TO_HOOK)+'.csv')"
      ]
    },
    {
      "cell_type": "code",
      "execution_count": null,
      "metadata": {
        "id": "91Q-CzBHiR-V"
      },
      "outputs": [],
      "source": [
        "class LeNet5(nn.Module):\n",
        "\n",
        "    def __init__(self, n_classes):\n",
        "        super(LeNet5, self).__init__()\n",
        "\n",
        "        self.feature_extractor = nn.Sequential(\n",
        "            nn.Conv2d(in_channels=1, out_channels=6, kernel_size=5, stride=1),\n",
        "            nn.Tanh(),\n",
        "            nn.AvgPool2d(kernel_size=2),\n",
        "            nn.Conv2d(in_channels=6, out_channels=16, kernel_size=5, stride=1),\n",
        "            nn.Tanh(),\n",
        "            nn.AvgPool2d(kernel_size=2),\n",
        "            nn.Conv2d(in_channels=16, out_channels=120, kernel_size=5, stride=1),\n",
        "            nn.Tanh()\n",
        "        )\n",
        "\n",
        "        self.classifier = nn.Sequential(\n",
        "            nn.Linear(in_features=120, out_features=84),\n",
        "            nn.Tanh(),\n",
        "            nn.Linear(in_features=84, out_features=n_classes),\n",
        "        )\n",
        "\n",
        "\n",
        "    def forward(self, x):\n",
        "        x = self.feature_extractor(x)\n",
        "        x = torch.flatten(x, 1)\n",
        "        logits = self.classifier(x)\n",
        "        probs = F.softmax(logits, dim=1)\n",
        "        return logits, probs"
      ]
    },
    {
      "cell_type": "code",
      "execution_count": null,
      "metadata": {
        "id": "aeWqAa15qYHA"
      },
      "outputs": [],
      "source": [
        "class LeNet5(nn.Module):\n",
        "\n",
        "    def __init__(self, n_classes):\n",
        "        super(LeNet5, self).__init__()\n",
        "\n",
        "        # self.feature_extractor = nn.Sequential(\n",
        "        #     nn.Conv2d(in_channels=1, out_channels=6, kernel_size=5, stride=1),\n",
        "        #     nn.Tanh(),\n",
        "        #     nn.AvgPool2d(kernel_size=2),\n",
        "        #     nn.Conv2d(in_channels=6, out_channels=16, kernel_size=5, stride=1),\n",
        "        #     nn.Tanh(),\n",
        "        #     nn.AvgPool2d(kernel_size=2),\n",
        "        #     nn.Conv2d(in_channels=16, out_channels=120, kernel_size=5, stride=1),\n",
        "        #     nn.Tanh()\n",
        "        # )\n",
        "\n",
        "        self.conv1 = nn.Conv2d(in_channels=1, out_channels=6, kernel_size=5, stride=1)\n",
        "        self.tanh1 = nn.Tanh()\n",
        "        self.pool1 = nn.AvgPool2d(kernel_size=2)\n",
        "        self.conv2 = nn.Conv2d(in_channels=6, out_channels=16, kernel_size=5, stride=1)\n",
        "        self.tanh2 = nn.Tanh()\n",
        "        self.pool2 = nn.AvgPool2d(kernel_size=2)\n",
        "        self.conv3 = nn.Conv2d(in_channels=16, out_channels=120, kernel_size=5, stride=1)\n",
        "        self.tanh3 = nn.Tanh()\n",
        "\n",
        "        # self.classifier = nn.Sequential(\n",
        "        #     nn.Linear(in_features=120, out_features=84),\n",
        "        #     nn.Tanh(),\n",
        "        #     nn.Linear(in_features=84, out_features=n_classes),\n",
        "        # )\n",
        "\n",
        "        self.linr1 = nn.Linear(in_features=120, out_features=84)\n",
        "        self.tanh4 = nn.Tanh()\n",
        "        self.linr2 = nn.Linear(in_features=84, out_features=n_classes)\n",
        "\n",
        "\n",
        "    def forward(self, x):\n",
        "\n",
        "        x = self.conv1(x)\n",
        "        x = self.tanh1(x)\n",
        "        x = self.pool1(x)\n",
        "        x = self.conv2(x)\n",
        "        x = self.tanh2(x)\n",
        "        x = self.pool2(x)\n",
        "        x = self.conv3(x)\n",
        "        x = self.tanh3(x)\n",
        "        # x = self.feature_extractor(x)\n",
        "        x = torch.flatten(x, 1)\n",
        "        x = self.linr1(x)\n",
        "        x = self.tanh4(x)\n",
        "        x = self.linr2(x)\n",
        "\n",
        "        # logits = self.classifier(x)\n",
        "        logits = x\n",
        "        probs = F.softmax(logits, dim=1)\n",
        "        return logits, probs"
      ]
    },
    {
      "cell_type": "code",
      "execution_count": null,
      "metadata": {
        "id": "RL_bXgc_iTdY"
      },
      "outputs": [],
      "source": [
        "torch.manual_seed(RANDOM_SEED)\n",
        "\n",
        "model = LeNet5(N_CLASSES).to(DEVICE)\n",
        "optimizer = torch.optim.Adam(model.parameters(), lr=LEARNING_RATE)\n",
        "criterion = nn.CrossEntropyLoss()"
      ]
    },
    {
      "cell_type": "code",
      "execution_count": null,
      "metadata": {
        "colab": {
          "background_save": true,
          "base_uri": "https://localhost:8080/"
        },
        "id": "H-jat9AYiWK1",
        "outputId": "84e6c5f7-7b0f-4df3-eb96-89c43ce200fa"
      },
      "outputs": [
        {
          "name": "stdout",
          "output_type": "stream",
          "text": [
            "00:29:16 --- Epoch: 0\tTrain loss: 0.2290\tValid loss: 0.1020\tTrain accuracy: 96.84\tValid accuracy: 96.81\n",
            "00:29:49 --- Epoch: 1\tTrain loss: 0.0762\tValid loss: 0.0619\tTrain accuracy: 98.39\tValid accuracy: 98.19\n",
            "00:30:18 --- Epoch: 2\tTrain loss: 0.0550\tValid loss: 0.0542\tTrain accuracy: 98.59\tValid accuracy: 98.45\n",
            "00:30:48 --- Epoch: 3\tTrain loss: 0.0438\tValid loss: 0.0486\tTrain accuracy: 99.07\tValid accuracy: 98.41\n",
            "00:31:17 --- Epoch: 4\tTrain loss: 0.0343\tValid loss: 0.0415\tTrain accuracy: 99.25\tValid accuracy: 98.76\n",
            "00:31:46 --- Epoch: 5\tTrain loss: 0.0298\tValid loss: 0.0453\tTrain accuracy: 99.40\tValid accuracy: 98.60\n",
            "00:32:15 --- Epoch: 6\tTrain loss: 0.0251\tValid loss: 0.0439\tTrain accuracy: 99.50\tValid accuracy: 98.66\n",
            "00:32:43 --- Epoch: 7\tTrain loss: 0.0222\tValid loss: 0.0443\tTrain accuracy: 99.39\tValid accuracy: 98.72\n",
            "00:33:12 --- Epoch: 8\tTrain loss: 0.0195\tValid loss: 0.0421\tTrain accuracy: 99.57\tValid accuracy: 98.82\n",
            "00:33:40 --- Epoch: 9\tTrain loss: 0.0171\tValid loss: 0.0458\tTrain accuracy: 99.60\tValid accuracy: 98.70\n",
            "00:34:10 --- Epoch: 10\tTrain loss: 0.0160\tValid loss: 0.0493\tTrain accuracy: 99.65\tValid accuracy: 98.62\n",
            "00:34:39 --- Epoch: 11\tTrain loss: 0.0144\tValid loss: 0.0470\tTrain accuracy: 99.63\tValid accuracy: 98.67\n",
            "00:35:07 --- Epoch: 12\tTrain loss: 0.0129\tValid loss: 0.0481\tTrain accuracy: 99.61\tValid accuracy: 98.79\n",
            "00:35:35 --- Epoch: 13\tTrain loss: 0.0121\tValid loss: 0.0430\tTrain accuracy: 99.54\tValid accuracy: 98.74\n",
            "00:36:03 --- Epoch: 14\tTrain loss: 0.0114\tValid loss: 0.0464\tTrain accuracy: 99.71\tValid accuracy: 98.79\n",
            "00:36:32 --- Epoch: 15\tTrain loss: 0.0111\tValid loss: 0.0495\tTrain accuracy: 99.76\tValid accuracy: 98.76\n",
            "00:37:00 --- Epoch: 16\tTrain loss: 0.0095\tValid loss: 0.0528\tTrain accuracy: 99.71\tValid accuracy: 98.69\n",
            "00:37:28 --- Epoch: 17\tTrain loss: 0.0104\tValid loss: 0.0414\tTrain accuracy: 99.70\tValid accuracy: 98.76\n",
            "00:37:56 --- Epoch: 18\tTrain loss: 0.0089\tValid loss: 0.0533\tTrain accuracy: 99.68\tValid accuracy: 98.61\n",
            "00:38:25 --- Epoch: 19\tTrain loss: 0.0088\tValid loss: 0.0469\tTrain accuracy: 99.80\tValid accuracy: 98.88\n",
            "00:38:55 --- Epoch: 20\tTrain loss: 0.0088\tValid loss: 0.0540\tTrain accuracy: 99.75\tValid accuracy: 98.77\n",
            "00:39:23 --- Epoch: 21\tTrain loss: 0.0072\tValid loss: 0.0511\tTrain accuracy: 99.74\tValid accuracy: 98.63\n",
            "00:39:51 --- Epoch: 22\tTrain loss: 0.0099\tValid loss: 0.0464\tTrain accuracy: 99.83\tValid accuracy: 98.84\n",
            "00:40:19 --- Epoch: 23\tTrain loss: 0.0057\tValid loss: 0.0599\tTrain accuracy: 99.78\tValid accuracy: 98.72\n",
            "00:40:47 --- Epoch: 24\tTrain loss: 0.0081\tValid loss: 0.0510\tTrain accuracy: 99.78\tValid accuracy: 98.78\n"
          ]
        },
        {
          "name": "stderr",
          "output_type": "stream",
          "text": [
            "<ipython-input-36-ceebf71dce09>:30: MatplotlibDeprecationWarning: The seaborn styles shipped by Matplotlib are deprecated since 3.6, as they no longer correspond to the styles shipped by seaborn. However, they will remain available as 'seaborn-v0_8-<style>'. Alternatively, directly use the seaborn API instead.\n",
            "  plt.style.use('seaborn')\n"
          ]
        },
        {
          "data": {
            "image/png": "[encoded data removed]",
            "text/plain": [
              "<Figure size 800x450 with 1 Axes>"
            ]
          },
          "metadata": {
            "image/png": {
              "height": 431,
              "width": 704
            }
          },
          "output_type": "display_data"
        }
      ],
      "source": [
        "model, optimizer, _, (trainCompTable, testCompTable), (train_accuracy, valid_accuracy) = training_loop_with_hooks(model,\n",
        "                                                                                criterion,\n",
        "                                                                                optimizer,\n",
        "                                                                                train_loader,\n",
        "                                                                                valid_loader,\n",
        "                                                                                N_EPOCHS,\n",
        "                                                                                DEVICE,\n",
        "                                                                                hook_every=SIZE_LOOP_TO_HOOK,\n",
        "                                                                                hook_layers=False)"
      ]
    },
    {
      "cell_type": "code",
      "execution_count": null,
      "metadata": {
        "colab": {
          "background_save": true
        },
        "id": "ZS3mYbinSPnG"
      },
      "outputs": [],
      "source": [
        "train_accuracy.to_csv('/content/drive/MyDrive/TG/train_accuracy'+'_'+str(SIZE_LOOP_TO_HOOK)+\"_\"+str(N_EPOCHS)+'.csv')\n",
        "valid_accuracy.to_csv('/content/drive/MyDrive/TG/test_accuracy'+'_'+str(SIZE_LOOP_TO_HOOK)+\"_\"+str(N_EPOCHS)+'.csv')"
      ]
    },
    {
      "cell_type": "code",
      "execution_count": null,
      "metadata": {
        "id": "tVom8dPcdkG5"
      },
      "outputs": [],
      "source": [
        "trainCompTable.to_csv('/content/drive/MyDrive/TG/train'+str(BATCH_IMAGE_INDEX)+'_'+str(SIZE_LOOP_TO_HOOK)+'.csv')\n",
        "testCompTable.to_csv('/content/drive/MyDrive/TG/test'+str(BATCH_IMAGE_INDEX)+'_'+str(SIZE_LOOP_TO_HOOK)+'.csv')"
      ]
    },
    {
      "cell_type": "code",
      "execution_count": null,
      "metadata": {
        "colab": {
          "base_uri": "https://localhost:8080/",
          "height": 53
        },
        "id": "y71D5EAds9PM",
        "outputId": "82a4e4d2-05c8-43c6-a442-f83e698caa70"
      },
      "outputs": [
        {
          "data": {
            "text/html": [
              "\n",
              "  <div id=\"df-e4af83a6-3409-4ef1-be1b-085e5f570a77\" class=\"colab-df-container\">\n",
              "    <div>\n",
              "<style scoped>\n",
              "    .dataframe tbody tr th:only-of-type {\n",
              "        vertical-align: middle;\n",
              "    }\n",
              "\n",
              "    .dataframe tbody tr th {\n",
              "        vertical-align: top;\n",
              "    }\n",
              "\n",
              "    .dataframe thead th {\n",
              "        text-align: right;\n",
              "    }\n",
              "</style>\n",
              "<table border=\"1\" class=\"dataframe\">\n",
              "  <thead>\n",
              "    <tr style=\"text-align: right;\">\n",
              "      <th></th>\n",
              "      <th>epoch</th>\n",
              "      <th>layer</th>\n",
              "      <th>metric</th>\n",
              "      <th>value</th>\n",
              "    </tr>\n",
              "  </thead>\n",
              "  <tbody>\n",
              "  </tbody>\n",
              "</table>\n",
              "</div>\n",
              "    <div class=\"colab-df-buttons\">\n",
              "\n",
              "  <div class=\"colab-df-container\">\n",
              "    <button class=\"colab-df-convert\" onclick=\"convertToInteractive('df-e4af83a6-3409-4ef1-be1b-085e5f570a77')\"\n",
              "            title=\"Convert this dataframe to an interactive table.\"\n",
              "            style=\"display:none;\">\n",
              "\n",
              "  <svg xmlns=\"http://www.w3.org/2000/svg\" height=\"24px\" viewBox=\"0 -960 960 960\">\n",
              "    <path d=\"M120-120v-720h720v720H120Zm60-500h600v-160H180v160Zm220 220h160v-160H400v160Zm0 220h160v-160H400v160ZM180-400h160v-160H180v160Zm440 0h160v-160H620v160ZM180-180h160v-160H180v160Zm440 0h160v-160H620v160Z\"/>\n",
              "  </svg>\n",
              "    </button>\n",
              "\n",
              "  <style>\n",
              "    .colab-df-container {\n",
              "      display:flex;\n",
              "      gap: 12px;\n",
              "    }\n",
              "\n",
              "    .colab-df-convert {\n",
              "      background-color: #E8F0FE;\n",
              "      border: none;\n",
              "      border-radius: 50%;\n",
              "      cursor: pointer;\n",
              "      display: none;\n",
              "      fill: #1967D2;\n",
              "      height: 32px;\n",
              "      padding: 0 0 0 0;\n",
              "      width: 32px;\n",
              "    }\n",
              "\n",
              "    .colab-df-convert:hover {\n",
              "      background-color: #E2EBFA;\n",
              "      box-shadow: 0px 1px 2px rgba(60, 64, 67, 0.3), 0px 1px 3px 1px rgba(60, 64, 67, 0.15);\n",
              "      fill: #174EA6;\n",
              "    }\n",
              "\n",
              "    .colab-df-buttons div {\n",
              "      margin-bottom: 4px;\n",
              "    }\n",
              "\n",
              "    [theme=dark] .colab-df-convert {\n",
              "      background-color: #3B4455;\n",
              "      fill: #D2E3FC;\n",
              "    }\n",
              "\n",
              "    [theme=dark] .colab-df-convert:hover {\n",
              "      background-color: #434B5C;\n",
              "      box-shadow: 0px 1px 3px 1px rgba(0, 0, 0, 0.15);\n",
              "      filter: drop-shadow(0px 1px 2px rgba(0, 0, 0, 0.3));\n",
              "      fill: #FFFFFF;\n",
              "    }\n",
              "  </style>\n",
              "\n",
              "    <script>\n",
              "      const buttonEl =\n",
              "        document.querySelector('#df-e4af83a6-3409-4ef1-be1b-085e5f570a77 button.colab-df-convert');\n",
              "      buttonEl.style.display =\n",
              "        google.colab.kernel.accessAllowed ? 'block' : 'none';\n",
              "\n",
              "      async function convertToInteractive(key) {\n",
              "        const element = document.querySelector('#df-e4af83a6-3409-4ef1-be1b-085e5f570a77');\n",
              "        const dataTable =\n",
              "          await google.colab.kernel.invokeFunction('convertToInteractive',\n",
              "                                                    [key], {});\n",
              "        if (!dataTable) return;\n",
              "\n",
              "        const docLinkHtml = 'Like what you see? Visit the ' +\n",
              "          '<a target=\"_blank\" href=https://colab.research.google.com/notebooks/data_table.ipynb>data table notebook</a>'\n",
              "          + ' to learn more about interactive tables.';\n",
              "        element.innerHTML = '';\n",
              "        dataTable['output_type'] = 'display_data';\n",
              "        await google.colab.output.renderOutput(dataTable, element);\n",
              "        const docLink = document.createElement('div');\n",
              "        docLink.innerHTML = docLinkHtml;\n",
              "        element.appendChild(docLink);\n",
              "      }\n",
              "    </script>\n",
              "  </div>\n",
              "\n",
              "    </div>\n",
              "  </div>\n"
            ],
            "text/plain": [
              "Empty DataFrame\n",
              "Columns: [epoch, layer, metric, value]\n",
              "Index: []"
            ]
          },
          "execution_count": 51,
          "metadata": {},
          "output_type": "execute_result"
        }
      ],
      "source": [
        "trainCompTable"
      ]
    },
    {
      "cell_type": "code",
      "execution_count": null,
      "metadata": {
        "colab": {
          "base_uri": "https://localhost:8080/",
          "height": 452
        },
        "id": "k3uTDkZms8IB",
        "outputId": "5cffacba-59f8-4b8e-fe04-659ff653ed97"
      },
      "outputs": [
        {
          "data": {
            "text/plain": [
              "<Axes: >"
            ]
          },
          "execution_count": 52,
          "metadata": {},
          "output_type": "execute_result"
        },
        {
          "data": {
            "image/png": "[encoded data removed]",
            "text/plain": [
              "<Figure size 640x480 with 1 Axes>"
            ]
          },
          "metadata": {
            "image/png": {
              "height": 418,
              "width": 558
            }
          },
          "output_type": "display_data"
        }
      ],
      "source": [
        "import seaborn as sns\n",
        "\n",
        "metricTable = trainCompTable[trainCompTable.metric == \"n3\"]\n",
        "sns.lineplot(data=metricTable,x=\"layer\",y=\"value\",hue=\"epoch\")"
      ]
    },
    {
      "cell_type": "code",
      "execution_count": null,
      "metadata": {
        "id": "agzs-YPMjY1s"
      },
      "outputs": [],
      "source": [
        "trainCompTable"
      ]
    },
    {
      "cell_type": "code",
      "execution_count": null,
      "metadata": {
        "id": "tjNVhEBbpFvX"
      },
      "outputs": [],
      "source": [
        "import seaborn as sns\n",
        "\n",
        "metricTable = trainCompTable[trainCompTable.metric == \"n3\"]\n",
        "sns.lineplot(data=metricTable,x=\"layer\",y=\"value\",hue=\"epoch\")"
      ]
    },
    {
      "cell_type": "code",
      "execution_count": null,
      "metadata": {
        "id": "KPBXtjqehRwE"
      },
      "outputs": [],
      "source": [
        "d = {\"a\": 1, \"b\": 2}\n",
        "pd.DataFrame.from_dict(d)"
      ]
    },
    {
      "cell_type": "code",
      "execution_count": null,
      "metadata": {
        "id": "OSfg4J4leefK"
      },
      "outputs": [],
      "source": [
        "display(trainIntermediateRepresentationComplexityTable)"
      ]
    },
    {
      "cell_type": "code",
      "execution_count": null,
      "metadata": {
        "id": "A18OTnBA_e3O"
      },
      "outputs": [],
      "source": [
        "\n",
        "ty = torch.Tensor()\n",
        "tx = torch.Tensor()\n",
        "txs = []\n",
        "tys = []\n",
        "for X, y_true in train_loader:\n",
        "    # ty = torch.cat((ty,y_true),0)\n",
        "    # tx = torch.cat((tx,X),0)\n",
        "    txs.append(X)\n",
        "    tys.append(y_true)\n",
        "rx = np.concatenate(txs)\n",
        "ry = np.concatenate(tys)"
      ]
    },
    {
      "cell_type": "code",
      "execution_count": null,
      "metadata": {
        "id": "i6KuhIj_rrPp"
      },
      "outputs": [],
      "source": [
        "rx.shape"
      ]
    },
    {
      "cell_type": "code",
      "execution_count": null,
      "metadata": {
        "id": "cMAeanOx_90g"
      },
      "outputs": [],
      "source": [
        "# complexity_calculator_layer(tx,ty)\n",
        "# rx.shape\n",
        "rrx = rx.reshape(rx.shape[0],-1)\n",
        "# rry = ry.reshape(ry.shape[0],-1)}\n",
        "rry = ry.reshape(-1)\n",
        "print(rrx.shape)\n",
        "print(rry.shape)\n",
        "\n",
        "mfc = MFEComplexity()\n",
        "mfc.ft_n3(rrx,rry)"
      ]
    },
    {
      "cell_type": "code",
      "execution_count": null,
      "metadata": {
        "id": "N8Wvxk5F6wvU"
      },
      "outputs": [],
      "source": [
        "torch.Tensor([[[[1]],[[2]]],[[[2]],[[3]]],[[[3]],[[4]]]]).flatten()"
      ]
    },
    {
      "cell_type": "code",
      "execution_count": null,
      "metadata": {
        "id": "bNLuFGap5IZ-"
      },
      "outputs": [],
      "source": [
        "tensor_debug\n",
        "# nparray_debug"
      ]
    },
    {
      "cell_type": "code",
      "execution_count": null,
      "metadata": {
        "id": "MDTr_fMo3Ilj"
      },
      "outputs": [],
      "source": [
        "trainIntermediateRepresentationComplexityTable"
      ]
    },
    {
      "cell_type": "code",
      "execution_count": null,
      "metadata": {
        "id": "aWuL5jeTQNT0"
      },
      "outputs": [],
      "source": [
        "for idx, layer in enumerate(model.named_children()):\n",
        "  print(\"Idx: {} in {}\".format(idx, str(layer[1])))"
      ]
    },
    {
      "cell_type": "code",
      "execution_count": null,
      "metadata": {
        "id": "Wz4LH_qq1fxv"
      },
      "outputs": [],
      "source": [
        "for idx, (layerName, layer) in enumerate(model.named_children()):\n",
        "  print(layerName)"
      ]
    },
    {
      "cell_type": "markdown",
      "metadata": {
        "id": "EPxo-odFjeFR"
      },
      "source": [
        "## Avaliação das predições"
      ]
    },
    {
      "cell_type": "code",
      "execution_count": null,
      "metadata": {
        "id": "QzlTwo0wiYer"
      },
      "outputs": [],
      "source": [
        "ROW_IMG = 10\n",
        "N_ROWS = 5\n",
        "\n",
        "fig = plt.figure()\n",
        "for index in range(1, ROW_IMG * N_ROWS + 1):\n",
        "    plt.subplot(N_ROWS, ROW_IMG, index)\n",
        "    plt.axis('off')\n",
        "    plt.imshow(valid_dataset.data[index], cmap='gray_r')\n",
        "\n",
        "    with torch.no_grad():\n",
        "        model.eval()\n",
        "        _, probs = model(valid_dataset[index][0].to(DEVICE).unsqueeze(0))\n",
        "\n",
        "    title = f'{torch.argmax(probs)} ({torch.max(probs * 100):.0f}%)'\n",
        "\n",
        "    plt.title(title, fontsize=7)\n",
        "fig.suptitle('LeNet-5 - predictions');"
      ]
    },
    {
      "cell_type": "code",
      "execution_count": null,
      "metadata": {
        "id": "0eLGhKwSibQJ"
      },
      "outputs": [],
      "source": [
        "# remove the downloaded dataset\n",
        "!rm -r mnist_data"
      ]
    },
    {
      "cell_type": "markdown",
      "metadata": {
        "id": "J9INjOi1-EQz"
      },
      "source": [
        "# Intermediate representations"
      ]
    },
    {
      "cell_type": "code",
      "execution_count": null,
      "metadata": {
        "id": "5vT4I5iSVi4d"
      },
      "outputs": [],
      "source": [
        "intermediateRepresentations = {}\n",
        "with torch.no_grad():\n",
        "  model.eval()\n",
        "  for X, y in train_loader:\n",
        "    # forward pass -- getting the outputs\n",
        "    X = X.to(DEVICE)\n",
        "    out = model(X)\n",
        "    # collect the activations in the correct list\n",
        "    for idx, (layerName, layer) in enumerate(model.named_children()):\n",
        "      if layerName in intermediateRepresentations:\n",
        "        intermediateRepresentations[layerName].append(activation[layerName])\n",
        "      else:\n",
        "        intermediateRepresentations[layerName] = [activation[layerName]]"
      ]
    },
    {
      "cell_type": "code",
      "execution_count": null,
      "metadata": {
        "id": "KRfWGCtgXU9U"
      },
      "outputs": [],
      "source": [
        "# intermediateRepresentations"
      ]
    },
    {
      "cell_type": "code",
      "execution_count": null,
      "metadata": {
        "id": "MkTlj3aa8Kff"
      },
      "outputs": [],
      "source": [
        "intermediateRepresentationsMapTensor = {}\n",
        "with torch.no_grad():\n",
        "  model.eval()\n",
        "  for X, y in train_loader:\n",
        "    # forward pass -- getting the outputs\n",
        "    X = X.to(DEVICE)\n",
        "    out = model(X)\n",
        "    # collect the activations in the correct list\n",
        "    for idx, (layerName, layer) in enumerate(model.named_children()):\n",
        "      if layerName in intermediateRepresentationsMapTensor:\n",
        "        t = intermediateRepresentationsMapTensor[layerName]\n",
        "        t = torch.cat((t,activation[layerName]),0)\n",
        "        intermediateRepresentationsMapTensor[layerName] = t\n",
        "      else:\n",
        "        intermediateRepresentationsMapTensor[layerName] = activation[layerName]"
      ]
    },
    {
      "cell_type": "code",
      "execution_count": null,
      "metadata": {
        "colab": {
          "base_uri": "https://localhost:8080/"
        },
        "id": "qT4HUbMP84nk",
        "outputId": "91428795-bce3-4570-be1c-a63ee9a1fedb"
      },
      "outputs": [
        {
          "name": "stdout",
          "output_type": "stream",
          "text": [
            "Layer Name: feature_extractor, and tensor size torch.Size([60000, 120, 1, 1])\n",
            "Layer Name: classifier, and tensor size torch.Size([60000, 10])\n"
          ]
        }
      ],
      "source": [
        "for layerName, tensor in intermediateRepresentationsMapTensor.items():\n",
        "  print(\"Layer Name: {}, and tensor size {}\".format(layerName, tensor.size()))"
      ]
    },
    {
      "cell_type": "markdown",
      "metadata": {
        "id": "eqbC3taUIM8w"
      },
      "source": [
        "# Rascunho"
      ]
    },
    {
      "cell_type": "code",
      "execution_count": null,
      "metadata": {
        "colab": {
          "base_uri": "https://localhost:8080/"
        },
        "id": "t8ac94zo1zxI",
        "outputId": "7097217b-4f4b-4fc4-986e-00a50e88d90a"
      },
      "outputs": [
        {
          "data": {
            "text/plain": [
              "torch.Size([64, 120, 1, 1])"
            ]
          },
          "execution_count": 23,
          "metadata": {},
          "output_type": "execute_result"
        }
      ],
      "source": [
        "t1 = intermediateRepresentations['feature_extractor'][0]\n",
        "t2 = intermediateRepresentations['feature_extractor'][1]\n",
        "t3 = torch.cat((t1,t2),0)\n",
        "t3.size()"
      ]
    },
    {
      "cell_type": "code",
      "execution_count": null,
      "metadata": {
        "id": "PbjrEd5qidg7"
      },
      "outputs": [],
      "source": [
        "feat_map = {}\n",
        "def hook_func(m,inp,op):\n",
        "  feat_map['feat'] = op.detach()"
      ]
    },
    {
      "cell_type": "code",
      "execution_count": null,
      "metadata": {
        "id": "1zbzQ5as-P3w"
      },
      "outputs": [],
      "source": [
        "activation = {}\n",
        "def getActivation(name):\n",
        "    # the hook signature\n",
        "    def hook(model, input, output):\n",
        "        activation[name] = output.detach()\n",
        "    return hook"
      ]
    },
    {
      "cell_type": "code",
      "execution_count": null,
      "metadata": {
        "id": "WnqJ57Ocp1gc"
      },
      "outputs": [],
      "source": [
        "h1 = model.feature_extractor.register_forward_hook(getActivation(\"feature_extractor\"))\n",
        "h2 = model.classifier.register_forward_hook(getActivation(\"classifier\"))"
      ]
    },
    {
      "cell_type": "code",
      "execution_count": null,
      "metadata": {
        "colab": {
          "base_uri": "https://localhost:8080/"
        },
        "id": "qbHtqAC1RWwd",
        "outputId": "91c97bd9-39c1-4fc0-8d70-ca2245f42c53"
      },
      "outputs": [
        {
          "data": {
            "text/plain": [
              "60000"
            ]
          },
          "execution_count": 27,
          "metadata": {},
          "output_type": "execute_result"
        }
      ],
      "source": [
        "i = 0\n",
        "for idx, (X, y) in enumerate(train_dataset):\n",
        "  # if (idx == 1):\n",
        "  #   first_batch = X\n",
        "  #   break\n",
        "  i = i+1\n",
        "# first_batch\n",
        "i"
      ]
    },
    {
      "cell_type": "code",
      "execution_count": null,
      "metadata": {
        "colab": {
          "base_uri": "https://localhost:8080/"
        },
        "id": "C1O804HXWfca",
        "outputId": "57d695ee-c2df-4293-f6d0-c154d17d27ab"
      },
      "outputs": [
        {
          "data": {
            "text/plain": [
              "32"
            ]
          },
          "execution_count": 28,
          "metadata": {},
          "output_type": "execute_result"
        }
      ],
      "source": [
        "BATCH_SIZE"
      ]
    },
    {
      "cell_type": "code",
      "execution_count": null,
      "metadata": {
        "colab": {
          "base_uri": "https://localhost:8080/"
        },
        "id": "KnhzT8DVVTIW",
        "outputId": "b8a214b1-ed76-4687-bf43-e53d45956211"
      },
      "outputs": [
        {
          "data": {
            "text/plain": [
              "tensor(0.9978, device='cuda:0')"
            ]
          },
          "execution_count": 29,
          "metadata": {},
          "output_type": "execute_result"
        }
      ],
      "source": [
        "get_accuracy(model,train_loader,DEVICE)"
      ]
    },
    {
      "cell_type": "code",
      "execution_count": null,
      "metadata": {
        "id": "EY6N2hW6_wJ0"
      },
      "outputs": [],
      "source": [
        "classifier_list, feature_extractor_list = [],[]\n",
        "with torch.no_grad():\n",
        "  model.eval()\n",
        "  for X, y in train_loader:\n",
        "    # forward pass -- getting the outputs\n",
        "    X = X.to(DEVICE)\n",
        "    out = model(X)\n",
        "    # collect the activations in the correct list\n",
        "    feature_extractor_list.append(activation['feature_extractor'])\n",
        "    classifier_list.append(activation['classifier'])"
      ]
    },
    {
      "cell_type": "code",
      "execution_count": null,
      "metadata": {
        "id": "1rkeSED_Ar2O"
      },
      "outputs": [],
      "source": [
        "# detach the hooks\n",
        "h1.remove()\n",
        "h2.remove()\n"
      ]
    },
    {
      "cell_type": "code",
      "execution_count": null,
      "metadata": {
        "colab": {
          "base_uri": "https://localhost:8080/"
        },
        "id": "5BfXKKLmW39l",
        "outputId": "50f1072a-fac4-4819-fd54-14745a0525fd"
      },
      "outputs": [
        {
          "data": {
            "text/plain": [
              "tensor([[ -3.7201,  -2.9144,  -0.5515,  17.9743,  -5.3545,  -0.3219,  -7.1712,\n",
              "          -4.0967,  -0.2157,   0.2398],\n",
              "        [  2.1187,  -4.6192,  -8.7556,   7.5722,  -8.5671,  14.4749,  -1.2608,\n",
              "          -5.7316,   0.3225,   0.6799],\n",
              "        [ -5.8856,  -6.8021, -10.0577,   3.5322,  -4.4600,  18.3038,  -1.5895,\n",
              "          -2.8938,   0.1368,   4.0350],\n",
              "        [  1.0720,  -4.9815,   0.2119,  -3.8567,  -8.8140,   4.6960,   2.9239,\n",
              "          -4.6730,  13.5678,  -2.6466],\n",
              "        [ -4.7579,  -1.3490,   1.0450,  14.1711,  -2.8410,  -1.8328,  -9.7761,\n",
              "          -1.5574,  -1.5881,   3.0418],\n",
              "        [ -1.9867,  -2.3967,  -2.1828,  -1.2643,   2.0076,   5.6341,  16.8223,\n",
              "          -7.3133,   0.6360,  -5.8666],\n",
              "        [ -6.2722,   0.8967,   6.2101,   2.9019,   1.3191,  -7.8101, -13.7437,\n",
              "          16.7140,  -3.7574,   1.2465],\n",
              "        [  0.6728,   3.9819,  11.5149,  -4.0674,  -0.5248, -12.7066,   0.0299,\n",
              "           1.2659,   1.0998,  -0.3317],\n",
              "        [ -9.8170,  15.4744,  -1.8467,  -2.9182,   2.4281,  -3.8100,  -0.5471,\n",
              "           0.8483,   2.2308,  -1.9566],\n",
              "        [ -0.2381,  -0.1839,  -0.2463,  -3.7598,   2.6943,   2.1040,  17.5539,\n",
              "          -8.7128,   0.1423,  -5.7153],\n",
              "        [  1.4702,  -4.3315,  -7.7750,  -1.5910,   0.2539,   3.2170,  -8.9925,\n",
              "          15.9111,  -3.5725,   4.3532],\n",
              "        [ -1.0489,   0.6697,  15.8570,   4.2479,  -5.7498,  -4.2062,  -2.8985,\n",
              "          -4.4054,   0.3085,  -4.2660],\n",
              "        [ -2.3810,  -3.8464,  -4.0303,   0.9765, -10.8697,   4.6129,   2.4671,\n",
              "          -7.5349,  15.3632,  -0.8503],\n",
              "        [ -2.0049,  15.4258,  -2.1623,  -5.3776,   0.7243,  -4.6487,  -4.5902,\n",
              "           5.9260,  -0.5430,  -0.9189],\n",
              "        [  1.8503,   2.4667,  16.4989,  -1.1801,  -2.4972,  -9.7325,  -4.4069,\n",
              "          -1.4480,   0.8764,  -2.4323],\n",
              "        [ -3.8315,  -3.5706,  -9.9968,   3.0474,  -5.3686,  20.3558,   0.5867,\n",
              "          -6.9203,  -0.0254,   1.9119],\n",
              "        [ 17.6552,  -5.3172,  -0.9941,  -1.2211,  -4.3384,  -0.2260,   0.3878,\n",
              "          -1.7062,  -1.5426,   1.0752],\n",
              "        [ -2.6789,  -9.6186,   0.4624,   3.4752,  -5.9349,   1.0696,  -3.0723,\n",
              "          -7.0872,  15.3369,   1.0684],\n",
              "        [  1.5187,   2.7224,  17.8814,  -2.6961,  -3.0344, -11.0085,   0.7990,\n",
              "           0.4247,   0.5922,  -4.8270],\n",
              "        [ -0.9363,  13.7606,   2.4833,  -7.2030,   1.5418,  -9.2139,  -2.7593,\n",
              "           3.8683,   2.0312,  -1.6864],\n",
              "        [ -4.7195,  -1.7650,   2.8946,  15.6633,  -5.1480,  -0.4810,  -7.8083,\n",
              "          -2.5680,   2.0943,  -2.8984],\n",
              "        [  1.9902,  -3.9214,  14.3315,   4.2741,  -3.0655,  -9.4704,  -3.1555,\n",
              "           1.1661,   0.7029,  -2.4257],\n",
              "        [  1.5213,  -2.7677,  13.6535,   2.2565,  -5.0146,  -4.7097,   0.5530,\n",
              "          -4.7828,   5.1359,  -6.1304],\n",
              "        [ -6.2763,  -3.4724,  -2.0242,  16.0827,  -4.8251,   5.5313,  -1.9748,\n",
              "          -5.7315,  -1.7384,  -1.4000],\n",
              "        [ -1.9220,  -8.2729,  -6.5882,   0.5116,   1.5486,  -1.8448, -10.1337,\n",
              "           1.0017,   2.1155,  15.5981],\n",
              "        [ -2.2906,  -2.0385,  -2.7101,  -5.2257,  14.2505,  -2.2753,  -0.1025,\n",
              "           2.5937,  -4.4439,   4.9053],\n",
              "        [ -2.0143,  -7.5026,  -5.9291,  -0.3243,   2.5652,  -3.5276, -10.6165,\n",
              "           1.0250,   1.7695,  16.7458],\n",
              "        [ -2.1134,  -9.1082,  -7.8920,   1.2362,   1.8638,  -0.2734,  -8.6784,\n",
              "           2.0971,   0.4394,  15.3814],\n",
              "        [ -6.9901,  -0.7215,  -0.0207,  15.6936,  -3.1032,  -0.2468,  -6.9813,\n",
              "           1.7000,  -1.9419,  -2.1069],\n",
              "        [ -6.9101,  -1.3337,  -0.5338,  17.1649,  -3.8362,   0.9422,  -9.7667,\n",
              "          -1.1302,  -1.2829,   0.5359],\n",
              "        [  5.2417,  -0.4399,   1.1852,  -0.8990,  -7.3684,   0.7435,  -3.0348,\n",
              "          -1.9396,  10.8698,  -5.2744],\n",
              "        [ -2.7136,  -5.5724,  -2.5185,   0.6036,  -3.2722,  -0.2579,  -4.2563,\n",
              "          -1.9520,  10.9227,   3.7480]], device='cuda:0')"
            ]
          },
          "execution_count": 32,
          "metadata": {},
          "output_type": "execute_result"
        }
      ],
      "source": [
        "classifier_list[0]"
      ]
    },
    {
      "cell_type": "code",
      "execution_count": null,
      "metadata": {
        "colab": {
          "base_uri": "https://localhost:8080/"
        },
        "id": "t6Z79Wsh_ijV",
        "outputId": "1c35c6ac-c2b2-420b-cd31-56ecfbf9103b"
      },
      "outputs": [
        {
          "data": {
            "text/plain": [
              "LeNet5(\n",
              "  (feature_extractor): Sequential(\n",
              "    (0): Conv2d(1, 6, kernel_size=(5, 5), stride=(1, 1))\n",
              "    (1): Tanh()\n",
              "    (2): AvgPool2d(kernel_size=2, stride=2, padding=0)\n",
              "    (3): Conv2d(6, 16, kernel_size=(5, 5), stride=(1, 1))\n",
              "    (4): Tanh()\n",
              "    (5): AvgPool2d(kernel_size=2, stride=2, padding=0)\n",
              "    (6): Conv2d(16, 120, kernel_size=(5, 5), stride=(1, 1))\n",
              "    (7): Tanh()\n",
              "  )\n",
              "  (classifier): Sequential(\n",
              "    (0): Linear(in_features=120, out_features=84, bias=True)\n",
              "    (1): Tanh()\n",
              "    (2): Linear(in_features=84, out_features=10, bias=True)\n",
              "  )\n",
              ")"
            ]
          },
          "execution_count": 33,
          "metadata": {},
          "output_type": "execute_result"
        }
      ],
      "source": [
        "model"
      ]
    },
    {
      "cell_type": "code",
      "execution_count": null,
      "metadata": {
        "id": "_omzg3EUsPbl"
      },
      "outputs": [],
      "source": [
        "# get_accuracy(model, train_loader, DEVICE)"
      ]
    },
    {
      "cell_type": "code",
      "execution_count": null,
      "metadata": {
        "colab": {
          "base_uri": "https://localhost:8080/"
        },
        "id": "KorgqeqgslGF",
        "outputId": "e6f4ff69-3433-4bb0-ca19-dde42bea7f3f"
      },
      "outputs": [
        {
          "data": {
            "text/plain": [
              "LeNet5(\n",
              "  (feature_extractor): Sequential(\n",
              "    (0): Conv2d(1, 6, kernel_size=(5, 5), stride=(1, 1))\n",
              "    (1): Tanh()\n",
              "    (2): AvgPool2d(kernel_size=2, stride=2, padding=0)\n",
              "    (3): Conv2d(6, 16, kernel_size=(5, 5), stride=(1, 1))\n",
              "    (4): Tanh()\n",
              "    (5): AvgPool2d(kernel_size=2, stride=2, padding=0)\n",
              "    (6): Conv2d(16, 120, kernel_size=(5, 5), stride=(1, 1))\n",
              "    (7): Tanh()\n",
              "  )\n",
              "  (classifier): Sequential(\n",
              "    (0): Linear(in_features=120, out_features=84, bias=True)\n",
              "    (1): Tanh()\n",
              "    (2): Linear(in_features=84, out_features=10, bias=True)\n",
              "  )\n",
              ")"
            ]
          },
          "execution_count": 35,
          "metadata": {},
          "output_type": "execute_result"
        }
      ],
      "source": [
        "model"
      ]
    },
    {
      "cell_type": "code",
      "execution_count": null,
      "metadata": {
        "colab": {
          "base_uri": "https://localhost:8080/"
        },
        "id": "MM1LwP84mk1V",
        "outputId": "20c72b85-0953-409f-de49-b2052fc68c8e"
      },
      "outputs": [
        {
          "name": "stdout",
          "output_type": "stream",
          "text": [
            "<class '__main__.LeNet5'>\n",
            "<class 'torch.nn.modules.container.Sequential'>\n",
            "<class 'torch.nn.modules.container.Sequential'>\n"
          ]
        }
      ],
      "source": [
        "print(type(model))\n",
        "for children in model.children():\n",
        "  print(type(children))"
      ]
    },
    {
      "cell_type": "code",
      "execution_count": null,
      "metadata": {
        "colab": {
          "base_uri": "https://localhost:8080/"
        },
        "id": "Z7Rq_HY9f5zF",
        "outputId": "2d7ce393-d607-4f9f-bce8-03d2cfd05c71"
      },
      "outputs": [
        {
          "name": "stdout",
          "output_type": "stream",
          "text": [
            "(4,)\n",
            "(4,)\n"
          ]
        },
        {
          "data": {
            "text/plain": [
              "array([1, 1, 2, 0])"
            ]
          },
          "execution_count": 14,
          "metadata": {},
          "output_type": "execute_result"
        }
      ],
      "source": [
        "a = np.arange(4)\n",
        "b = a.copy()\n",
        "a[0] = 1\n",
        "a[3] = 0\n",
        "print(a.shape)\n",
        "print(b.shape)\n",
        "a.T"
      ]
    },
    {
      "cell_type": "code",
      "execution_count": null,
      "metadata": {
        "colab": {
          "base_uri": "https://localhost:8080/"
        },
        "id": "68Ci_FWHjRKk",
        "outputId": "96876784-3860-4123-e080-00d005bc7e1a"
      },
      "outputs": [
        {
          "data": {
            "text/plain": [
              "array([[False, False, False,  True],\n",
              "       [ True,  True, False, False],\n",
              "       [False, False,  True, False],\n",
              "       [False, False, False, False]])"
            ]
          },
          "execution_count": 15,
          "metadata": {},
          "output_type": "execute_result"
        }
      ],
      "source": [
        "test = np.array(\n",
        "      [np.equal(a, C) for C in b], dtype=bool\n",
        ")\n",
        "test"
      ]
    },
    {
      "cell_type": "code",
      "execution_count": null,
      "metadata": {
        "colab": {
          "base_uri": "https://localhost:8080/"
        },
        "id": "JFHkz54Sj031",
        "outputId": "339ef861-f380-49cf-a3b5-b8e6b389c8c9"
      },
      "outputs": [
        {
          "data": {
            "text/plain": [
              "array([False,  True,  True, False])"
            ]
          },
          "execution_count": 16,
          "metadata": {},
          "output_type": "execute_result"
        }
      ],
      "source": [
        "np.equal(a,b)"
      ]
    },
    {
      "cell_type": "markdown",
      "metadata": {
        "id": "9Bm-33FPU0Ce"
      },
      "source": [
        "# Execute layer to layer"
      ]
    },
    {
      "cell_type": "code",
      "execution_count": null,
      "metadata": {
        "id": "qE5qezvoUzYR"
      },
      "outputs": [],
      "source": [
        "np.equal(a,b)"
      ]
    }
  ],
  "metadata": {
    "accelerator": "GPU",
    "colab": {
      "provenance": []
    },
    "kernelspec": {
      "display_name": "Python 3",
      "name": "python3"
    },
    "language_info": {
      "name": "python"
    }
  },
  "nbformat": 4,
  "nbformat_minor": 0
}